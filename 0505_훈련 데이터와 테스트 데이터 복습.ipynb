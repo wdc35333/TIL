{
 "cells": [
  {
   "cell_type": "markdown",
   "id": "fb66de02",
   "metadata": {},
   "source": [
    "# 훈련 데이터와 테스트 데이터\n",
    "## 정확도가 정말 1.0 인가?"
   ]
  },
  {
   "cell_type": "code",
   "execution_count": 12,
   "id": "fb32b7ca",
   "metadata": {},
   "outputs": [],
   "source": [
    "from sklearn.datasets import load_iris\n",
    "import numpy as np\n",
    "iris = load_iris()\n",
    "X = iris.data\n",
    "y = iris.target"
   ]
  },
  {
   "cell_type": "code",
   "execution_count": 60,
   "id": "562a5aac",
   "metadata": {},
   "outputs": [],
   "source": [
    "from sklearn.neighbors import KNeighborsClassifier\n",
    "knn = KNeighborsClassifier(n_neighbors=1)"
   ]
  },
  {
   "cell_type": "code",
   "execution_count": 61,
   "id": "ee27b708",
   "metadata": {},
   "outputs": [
    {
     "data": {
      "text/plain": [
       "KNeighborsClassifier(n_neighbors=1)"
      ]
     },
     "execution_count": 61,
     "metadata": {},
     "output_type": "execute_result"
    }
   ],
   "source": [
    "knn.fit(X, y)"
   ]
  },
  {
   "cell_type": "code",
   "execution_count": 62,
   "id": "b8fa40a0",
   "metadata": {},
   "outputs": [],
   "source": [
    "y_pred = knn.predict(X)"
   ]
  },
  {
   "cell_type": "code",
   "execution_count": 63,
   "id": "35b2cd61",
   "metadata": {},
   "outputs": [
    {
     "data": {
      "text/plain": [
       "1.0"
      ]
     },
     "execution_count": 63,
     "metadata": {},
     "output_type": "execute_result"
    }
   ],
   "source": [
    "np.mean(y == y_pred)"
   ]
  },
  {
   "cell_type": "markdown",
   "id": "4e5cfece",
   "metadata": {},
   "source": [
    "## 훈련 데이터와 테스트 데이터의 분리\n",
    "- 머신러닝 모델을 만들 때 사용한 데이터는 모델의 성능측정용으로 사용하지 않음  => 일반화 문제\n",
    "- 훈련 데이터: 머신러닝 모델을 만들 목적으로 사용\n",
    "- 테스트 데이터: 머신러닝 모델이 잘 작동하는지를 측정할 목적으로 사용\n",
    "- scikit-learn의 train_test_split 함수를 주로 사용 (기본적으로 훈련용 75%, 테스트용 25% 구성)\n"
   ]
  },
  {
   "cell_type": "code",
   "execution_count": 64,
   "id": "2d6e3e9e",
   "metadata": {},
   "outputs": [],
   "source": [
    "from sklearn.model_selection import train_test_split\n",
    "\n",
    "X_train, X_test, y_train, y_test = train_test_split(\n",
    "    X, y, test_size = 0.2, random_state = 25)"
   ]
  },
  {
   "cell_type": "code",
   "execution_count": 65,
   "id": "d5aeb0ad",
   "metadata": {},
   "outputs": [
    {
     "data": {
      "text/plain": [
       "((120, 4), (120,), (30, 4), (30,))"
      ]
     },
     "execution_count": 65,
     "metadata": {},
     "output_type": "execute_result"
    }
   ],
   "source": [
    "X_train.shape, y_train.shape, X_test.shape, y_test.shape   # 훈련용 데이터와 테스트 데이터로 분류 완료"
   ]
  },
  {
   "cell_type": "markdown",
   "id": "fa01c293",
   "metadata": {},
   "source": [
    "### knn분류기에 훈련용 데이터를 적합"
   ]
  },
  {
   "cell_type": "code",
   "execution_count": 71,
   "id": "122d1ad7",
   "metadata": {},
   "outputs": [
    {
     "data": {
      "text/plain": [
       "KNeighborsClassifier(n_neighbors=1)"
      ]
     },
     "execution_count": 71,
     "metadata": {},
     "output_type": "execute_result"
    }
   ],
   "source": [
    "knn.fit(X_train, y_train)"
   ]
  },
  {
   "cell_type": "markdown",
   "id": "5c29183a",
   "metadata": {},
   "source": [
    "### 훈련용 데이터로 학습된 knn분류기에 테스트 값을 넣어 예측값을 구한다"
   ]
  },
  {
   "cell_type": "code",
   "execution_count": 67,
   "id": "03c0fe79",
   "metadata": {},
   "outputs": [
    {
     "data": {
      "text/plain": [
       "array([0, 2, 2, 1, 2, 1, 2, 0, 1, 1, 0, 0, 0, 1, 0, 1, 2, 2, 1, 1, 1, 1,\n",
       "       1, 0, 0, 2, 1, 2, 2, 0])"
      ]
     },
     "execution_count": 67,
     "metadata": {},
     "output_type": "execute_result"
    }
   ],
   "source": [
    "y_pred = knn.predict(X_test)\n",
    "y_pred"
   ]
  },
  {
   "cell_type": "markdown",
   "id": "16e44d1c",
   "metadata": {},
   "source": [
    "### 실제 y_test값과 y_pred가 얼마나 일치하는지 계산하여 정확도를 구한다"
   ]
  },
  {
   "cell_type": "code",
   "execution_count": 68,
   "id": "bbe9e0b3",
   "metadata": {},
   "outputs": [
    {
     "data": {
      "text/plain": [
       "0.9"
      ]
     },
     "execution_count": 68,
     "metadata": {},
     "output_type": "execute_result"
    }
   ],
   "source": [
    "np.mean(y_test == y_pred)"
   ]
  },
  {
   "cell_type": "code",
   "execution_count": 69,
   "id": "c456dc4f",
   "metadata": {},
   "outputs": [
    {
     "data": {
      "text/plain": [
       "0.9"
      ]
     },
     "execution_count": 69,
     "metadata": {},
     "output_type": "execute_result"
    }
   ],
   "source": [
    "knn.score(X_test, y_test)    # np.mean으로 정확도를 구할수도 있지만 score(X_test, y_test)를 이용해서도 구할 수 있다"
   ]
  },
  {
   "cell_type": "code",
   "execution_count": 70,
   "id": "2be9375f",
   "metadata": {},
   "outputs": [
    {
     "data": {
      "text/plain": [
       "0.9"
      ]
     },
     "execution_count": 70,
     "metadata": {},
     "output_type": "execute_result"
    }
   ],
   "source": [
    "from sklearn.metrics import accuracy_score\n",
    "\n",
    "accuracy_score(y_test, y_pred)     # metrics모듈의 accuracy_score(실제값, 예측값)는 분류 문제의 score를 계산해준다. "
   ]
  },
  {
   "cell_type": "code",
   "execution_count": null,
   "id": "8b159a28",
   "metadata": {},
   "outputs": [],
   "source": []
  }
 ],
 "metadata": {
  "kernelspec": {
   "display_name": "Python 3 (ipykernel)",
   "language": "python",
   "name": "python3"
  },
  "language_info": {
   "codemirror_mode": {
    "name": "ipython",
    "version": 3
   },
   "file_extension": ".py",
   "mimetype": "text/x-python",
   "name": "python",
   "nbconvert_exporter": "python",
   "pygments_lexer": "ipython3",
   "version": "3.9.12"
  }
 },
 "nbformat": 4,
 "nbformat_minor": 5
}
