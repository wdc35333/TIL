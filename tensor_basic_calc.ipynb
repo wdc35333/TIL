{
 "cells": [
  {
   "cell_type": "code",
   "execution_count": 5,
   "metadata": {},
   "outputs": [
    {
     "name": "stdout",
     "output_type": "stream",
     "text": [
      "tf.Tensor(5, shape=(), dtype=int32)\n",
      "tf.Tensor(1, shape=(), dtype=int32)\n",
      "6\n",
      "1.5\n"
     ]
    }
   ],
   "source": [
    "import tensorflow as tf\n",
    "import numpy as np\n",
    "\n",
    "a = tf.constant(3)\n",
    "b = tf.constant(2)\n",
    "\n",
    "# 기본 연산\n",
    "# 텐서 형태로 출력해보기\n",
    "print(tf.add(a, b))         # 더하기\n",
    "print(tf.subtract(a, b))   # 빼기\n",
    "\n",
    "# 넘파이 배열 형태로 출력해보기\n",
    "print(tf.multiply(a, b).numpy())    # 곱하기\n",
    "print(tf.divide(a, b).numpy())      # 나누기\n"
   ]
  },
  {
   "cell_type": "code",
   "execution_count": 9,
   "metadata": {},
   "outputs": [
    {
     "name": "stdout",
     "output_type": "stream",
     "text": [
      "numpy array : 5.0, applying square with numpy : 25.0, convert_to_tensor: 25.0\n"
     ]
    }
   ],
   "source": [
    "c = tf.add(a,b).numpy()     # a와 b 더한 후 NumPy 배열 형태로 변환\n",
    "c_square = np.square(c, dtype= np.float32)\n",
    "# NumPy 모듈에 존재하는 square 함수를 적용합니다.\n",
    "c_tensor = tf.convert_to_tensor(c_square)   # 다시 텐서로 변환\n",
    "\n",
    "# 넘파이 배열과 텐서 각각을 확인하기 위해 출력\n",
    "print('numpy array : %0.1f, applying square with numpy : %0.1f, convert_to_tensor: %0.1f' % (c, c_square, c_tensor))"
   ]
  },
  {
   "cell_type": "code",
   "execution_count": 10,
   "metadata": {},
   "outputs": [],
   "source": [
    "from tensorflow.math import sin, cos, tanh # 수학에 관려된 모듈\n",
    "from tensorflow.linalg import diag, svd, matrix_transpose # 선형대수학에 관련된 모듈"
   ]
  },
  {
   "cell_type": "code",
   "execution_count": 17,
   "metadata": {},
   "outputs": [
    {
     "name": "stdout",
     "output_type": "stream",
     "text": [
      "tf.Tensor(4, shape=(), dtype=int32)\n"
     ]
    }
   ],
   "source": [
    "@tf.function\n",
    "def square_pos(x):\n",
    "    if x > 0:\n",
    "        x = x * x\n",
    "    else:\n",
    "        x = x * 1\n",
    "    return x\n",
    "\n",
    "print(square_pos(tf.constant(2)))"
   ]
  },
  {
   "cell_type": "code",
   "execution_count": null,
   "metadata": {},
   "outputs": [],
   "source": []
  }
 ],
 "metadata": {
  "interpreter": {
   "hash": "fc75f626a8e3c2dd59afd3c3c66f1a8447434e7a01cce97eb72573ea9477b80f"
  },
  "kernelspec": {
   "display_name": "Python 3.9.12 ('kdig')",
   "language": "python",
   "name": "python3"
  },
  "language_info": {
   "name": "python",
   "version": "3.9.12"
  },
  "orig_nbformat": 4
 },
 "nbformat": 4,
 "nbformat_minor": 2
}
