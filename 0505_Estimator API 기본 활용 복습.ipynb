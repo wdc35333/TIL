{
 "cells": [
  {
   "cell_type": "markdown",
   "id": "f6d1b3b7",
   "metadata": {},
   "source": [
    "# Scikit-Learn Estimator API 기본 활용 절차"
   ]
  },
  {
   "cell_type": "markdown",
   "id": "e769a87d",
   "metadata": {},
   "source": [
    "## 데이터 준비"
   ]
  },
  {
   "cell_type": "code",
   "execution_count": 1,
   "id": "ce9125e0",
   "metadata": {},
   "outputs": [],
   "source": [
    "import numpy as np\n",
    "import matplotlib.pyplot as plt"
   ]
  },
  {
   "cell_type": "code",
   "execution_count": 19,
   "id": "713fe5ff",
   "metadata": {},
   "outputs": [],
   "source": [
    "rs = np.random.RandomState(10)\n",
    "x = 10 * rs.rand(100)\n",
    "y = 3 * x + 2 * rs.rand(100)"
   ]
  },
  {
   "cell_type": "code",
   "execution_count": 20,
   "id": "b0fcc024",
   "metadata": {},
   "outputs": [
    {
     "data": {
      "image/png": "[encoded data removed]",
      "text/plain": [
       "<Figure size 432x288 with 1 Axes>"
      ]
     },
     "metadata": {
      "needs_background": "light"
     },
     "output_type": "display_data"
    }
   ],
   "source": [
    "plt.scatter(x, y, s = 10);    # 선형적인 데이터가 나온다"
   ]
  },
  {
   "cell_type": "markdown",
   "id": "0d5d0a25",
   "metadata": {},
   "source": [
    "## 모델 클래스 선택, 모델 인스턴스 생성과 하이퍼파라미터 선택"
   ]
  },
  {
   "cell_type": "code",
   "execution_count": 21,
   "id": "d9db2228",
   "metadata": {},
   "outputs": [],
   "source": [
    "from sklearn.linear_model import LinearRegression\n",
    "regr = LinearRegression()"
   ]
  },
  {
   "cell_type": "code",
   "execution_count": 38,
   "id": "01601726",
   "metadata": {},
   "outputs": [],
   "source": [
    "from sklearn.linear_model import LinearRegression\n",
    "regr = LinearRegression(fit_intercept = True)"
   ]
  },
  {
   "cell_type": "markdown",
   "id": "6db00f24",
   "metadata": {},
   "source": [
    "## 특징 행렬과 대상 벡터 준비"
   ]
  },
  {
   "cell_type": "code",
   "execution_count": 39,
   "id": "1748c142",
   "metadata": {},
   "outputs": [
    {
     "data": {
      "text/plain": [
       "((100, 1), (100,))"
      ]
     },
     "execution_count": 39,
     "metadata": {},
     "output_type": "execute_result"
    }
   ],
   "source": [
    "X = x.reshape(-1, 1)\n",
    "X.shape, y.shape"
   ]
  },
  {
   "cell_type": "markdown",
   "id": "17ba614d",
   "metadata": {},
   "source": [
    "## 모델을 데이터에 적합"
   ]
  },
  {
   "cell_type": "code",
   "execution_count": 40,
   "id": "ae61d0ba",
   "metadata": {},
   "outputs": [
    {
     "data": {
      "text/plain": [
       "LinearRegression()"
      ]
     },
     "execution_count": 40,
     "metadata": {},
     "output_type": "execute_result"
    }
   ],
   "source": [
    "regr.fit(X, y)"
   ]
  },
  {
   "cell_type": "code",
   "execution_count": 41,
   "id": "7773692c",
   "metadata": {},
   "outputs": [
    {
     "data": {
      "text/plain": [
       "array([2.9855087])"
      ]
     },
     "execution_count": 41,
     "metadata": {},
     "output_type": "execute_result"
    }
   ],
   "source": [
    "regr.coef_"
   ]
  },
  {
   "cell_type": "code",
   "execution_count": 45,
   "id": "3cad3c5b",
   "metadata": {},
   "outputs": [
    {
     "data": {
      "text/plain": [
       "0.9878534341975644"
      ]
     },
     "execution_count": 45,
     "metadata": {},
     "output_type": "execute_result"
    }
   ],
   "source": [
    "regr.intercept_"
   ]
  },
  {
   "cell_type": "markdown",
   "id": "12158cd2",
   "metadata": {},
   "source": [
    "## 새로운 데이터를 이용해 예측"
   ]
  },
  {
   "cell_type": "code",
   "execution_count": 62,
   "id": "5546a7d3",
   "metadata": {},
   "outputs": [
    {
     "data": {
      "text/plain": [
       "(100,)"
      ]
     },
     "execution_count": 62,
     "metadata": {},
     "output_type": "execute_result"
    }
   ],
   "source": [
    "x_new = np.linspace(-1, 11, num = 100)\n",
    "x_new.shape"
   ]
  },
  {
   "cell_type": "code",
   "execution_count": 63,
   "id": "7bfea72b",
   "metadata": {},
   "outputs": [
    {
     "data": {
      "text/plain": [
       "(100, 1)"
      ]
     },
     "execution_count": 63,
     "metadata": {},
     "output_type": "execute_result"
    }
   ],
   "source": [
    "X_new = x_new.reshape(-1, 1)\n",
    "X_new.shape"
   ]
  },
  {
   "cell_type": "code",
   "execution_count": 64,
   "id": "55480ccd",
   "metadata": {},
   "outputs": [],
   "source": [
    "y_pred = regr.predict(X_new)"
   ]
  },
  {
   "cell_type": "code",
   "execution_count": 68,
   "id": "f2680e3d",
   "metadata": {},
   "outputs": [
    {
     "data": {
      "image/png": "[encoded data removed]",
      "text/plain": [
       "<Figure size 432x288 with 1 Axes>"
      ]
     },
     "metadata": {
      "needs_background": "light"
     },
     "output_type": "display_data"
    }
   ],
   "source": [
    "plt.plot(X_new, y_pred, c='red')\n",
    "plt.scatter(x, y, s = 10)\n",
    "plt.show()"
   ]
  },
  {
   "cell_type": "markdown",
   "id": "d7ff94cc",
   "metadata": {},
   "source": [
    "## 모델 평가"
   ]
  },
  {
   "cell_type": "markdown",
   "id": "a27f876f",
   "metadata": {},
   "source": [
    "### 회귀는 RMSE라는 평가 값을 사용(Root Mean Squared Error): 평균제곱근오차\n",
    "- 실제값과 예측값의 차이의 제곱의 평균을 루트 씌운 값\n",
    "- Scikit-Learn은 metrics라는 모듈에 많은 평가 지표를 계산하는 함수들을 넣어둠"
   ]
  },
  {
   "cell_type": "code",
   "execution_count": 73,
   "id": "1c5e14ef",
   "metadata": {},
   "outputs": [
    {
     "data": {
      "text/plain": [
       "13.708237122486333"
      ]
     },
     "execution_count": 73,
     "metadata": {},
     "output_type": "execute_result"
    }
   ],
   "source": [
    "from sklearn.metrics import mean_squared_error    # mean_squared_error는 실제값과 예측값의 차이의 제곱의 평균까지만 구해줌\n",
    "\n",
    "rmse = np.sqrt(mean_squared_error(y, y_pred))     # y는 실제값, y_pred는 예측값\n",
    "rmse                                              # mean_squared_error(y, y_pred)는 (y - y_pred)^2/n  (n = 갯수)\n",
    "                                                  # np.sqrt() 함수는 해당 값의 루트값을 구해준다\n",
    "                                                  # rmse의 값이 0에 가까울수록 훌륭한 모델"
   ]
  },
  {
   "cell_type": "code",
   "execution_count": 74,
   "id": "1ce9c76e",
   "metadata": {},
   "outputs": [
    {
     "data": {
      "text/plain": [
       "1.4142135623730951"
      ]
     },
     "execution_count": 74,
     "metadata": {},
     "output_type": "execute_result"
    }
   ],
   "source": [
    "np.sqrt(2)"
   ]
  },
  {
   "cell_type": "code",
   "execution_count": null,
   "id": "bfc6b348",
   "metadata": {},
   "outputs": [],
   "source": []
  }
 ],
 "metadata": {
  "kernelspec": {
   "display_name": "Python 3 (ipykernel)",
   "language": "python",
   "name": "python3"
  },
  "language_info": {
   "codemirror_mode": {
    "name": "ipython",
    "version": 3
   },
   "file_extension": ".py",
   "mimetype": "text/x-python",
   "name": "python",
   "nbconvert_exporter": "python",
   "pygments_lexer": "ipython3",
   "version": "3.9.12"
  }
 },
 "nbformat": 4,
 "nbformat_minor": 5
}
