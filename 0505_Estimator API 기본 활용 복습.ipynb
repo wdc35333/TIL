{
 "cells": [
  {
   "cell_type": "code",
   "execution_count": 1,
   "id": "afbf922e",
   "metadata": {},
   "outputs": [],
   "source": [
    "import numpy as np\n",
    "import matplotlib.pyplot as plt"
   ]
  },
  {
   "cell_type": "code",
   "execution_count": 19,
   "id": "1fa6fec4",
   "metadata": {},
   "outputs": [],
   "source": [
    "rs = np.random.RandomState(10)\n",
    "x = 10 * rs.rand(100)\n",
    "y = 3 * x + 2 * rs.rand(100)"
   ]
  },
  {
   "cell_type": "code",
   "execution_count": 20,
   "id": "63e88750",
   "metadata": {},
   "outputs": [
    {
     "data": {
      "image/png": "[encoded data removed]",
      "text/plain": [
       "<Figure size 432x288 with 1 Axes>"
      ]
     },
     "metadata": {
      "needs_background": "light"
     },
     "output_type": "display_data"
    }
   ],
   "source": [
    "plt.scatter(x, y, s = 10);    # 선형적인 데이터가 나온다"
   ]
  },
  {
   "cell_type": "code",
   "execution_count": 21,
   "id": "25ccbd5a",
   "metadata": {},
   "outputs": [],
   "source": [
    "from sklearn.linear_model import LinearRegression\n",
    "regr = LinearRegression()"
   ]
  },
  {
   "cell_type": "code",
   "execution_count": null,
   "id": "18cc717b",
   "metadata": {},
   "outputs": [],
   "source": []
  }
 ],
 "metadata": {
  "kernelspec": {
   "display_name": "Python 3 (ipykernel)",
   "language": "python",
   "name": "python3"
  },
  "language_info": {
   "codemirror_mode": {
    "name": "ipython",
    "version": 3
   },
   "file_extension": ".py",
   "mimetype": "text/x-python",
   "name": "python",
   "nbconvert_exporter": "python",
   "pygments_lexer": "ipython3",
   "version": "3.9.12"
  }
 },
 "nbformat": 4,
 "nbformat_minor": 5
}
