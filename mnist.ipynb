{
 "cells": [
  {
   "cell_type": "code",
   "execution_count": 13,
   "metadata": {},
   "outputs": [],
   "source": [
    "from tensorflow.keras.datasets.mnist import load_data\n",
    "\n",
    "(x_train, y_train), (x_test, y_test) = load_data(path = 'mnist.npz')"
   ]
  },
  {
   "cell_type": "code",
   "execution_count": 14,
   "metadata": {},
   "outputs": [
    {
     "name": "stdout",
     "output_type": "stream",
     "text": [
      "(60000, 28, 28) (60000,)\n",
      "[5 0 4 ... 5 6 8]\n",
      "(10000, 28, 28) (10000,)\n",
      "[7 2 1 ... 4 5 6]\n"
     ]
    }
   ],
   "source": [
    "# 학습 데이터\n",
    "print(x_train.shape, y_train.shape)\n",
    "print(y_train)\n",
    "\n",
    "# 테스트 데이터\n",
    "print(x_test.shape, y_test.shape)\n",
    "print(y_test)"
   ]
  },
  {
   "cell_type": "code",
   "execution_count": 15,
   "metadata": {},
   "outputs": [
    {
     "data": {
      "image/png": "[encoded data removed]",
      "text/plain": [
       "<Figure size 432x288 with 1 Axes>"
      ]
     },
     "metadata": {
      "needs_background": "light"
     },
     "output_type": "display_data"
    },
    {
     "data": {
      "image/png": "[encoded data removed]",
      "text/plain": [
       "<Figure size 432x288 with 1 Axes>"
      ]
     },
     "metadata": {
      "needs_background": "light"
     },
     "output_type": "display_data"
    },
    {
     "data": {
      "image/png": "[encoded data removed]",
      "text/plain": [
       "<Figure size 432x288 with 1 Axes>"
      ]
     },
     "metadata": {
      "needs_background": "light"
     },
     "output_type": "display_data"
    }
   ],
   "source": [
    "import matplotlib.pyplot as plt\n",
    "import numpy as np\n",
    "\n",
    "sample_size = 3\n",
    "# 0~59999의 범위에서 무작위로 세 개의 정수 뽑기\n",
    "random_idx = np.random.randint(60000, size=sample_size)\n",
    "\n",
    "for idx in random_idx:\n",
    "    img = x_train[idx, :]\n",
    "    label = y_train[idx]\n",
    "    plt.figure()\n",
    "    plt.imshow(img)\n",
    "    plt.title('%d-th data, label is %d' % (idx, label))"
   ]
  },
  {
   "cell_type": "code",
   "execution_count": 16,
   "metadata": {},
   "outputs": [
    {
     "name": "stdout",
     "output_type": "stream",
     "text": [
      "훈련 데이터 (42000, 28, 28) 레이블 (42000,)\n",
      "검증 데이터 (18000, 28, 28) 레이블 (18000,)\n"
     ]
    }
   ],
   "source": [
    "from sklearn.model_selection import train_test_split\n",
    "\n",
    "# 훈련/테스트 데이터를 0.7/0.3의 비율로 분리\n",
    "x_train, x_val, y_train, y_val = train_test_split(x_train, y_train, test_size = 0.3, random_state=777)\n",
    "print(f'훈련 데이터 {x_train.shape} 레이블 {y_train.shape}')\n",
    "print(f'검증 데이터 {x_val.shape} 레이블 {y_val.shape}')"
   ]
  },
  {
   "cell_type": "code",
   "execution_count": 17,
   "metadata": {},
   "outputs": [
    {
     "name": "stdout",
     "output_type": "stream",
     "text": [
      "(42000, 784)\n"
     ]
    }
   ],
   "source": [
    "num_x_train = x_train.shape[0]\n",
    "num_x_val = x_val.shape[0]\n",
    "num_x_test = x_test.shape[0]\n",
    "\n",
    "# 모델의 입력으로 사용하기 위한 전처리\n",
    "x_train = (x_train.reshape((num_x_train, 28 * 28))) / 255\n",
    "x_val = (x_val.reshape((num_x_val, 28 * 28))) / 255\n",
    "x_test = (x_test.reshape((num_x_test, 28 * 28))) / 255\n",
    "\n",
    "print(x_train.shape)    # 모델 입력을 위해 데이터를 784 차원으로 변경"
   ]
  },
  {
   "cell_type": "markdown",
   "metadata": {},
   "source": [
    "### 모델 입력을 위한 레이블 전처리"
   ]
  },
  {
   "cell_type": "code",
   "execution_count": 18,
   "metadata": {},
   "outputs": [
    {
     "name": "stdout",
     "output_type": "stream",
     "text": [
      "[[0. 0. 1. ... 0. 0. 0.]\n",
      " [0. 0. 0. ... 1. 0. 0.]\n",
      " [0. 0. 0. ... 0. 0. 0.]\n",
      " ...\n",
      " [0. 0. 0. ... 0. 0. 0.]\n",
      " [0. 0. 0. ... 0. 0. 0.]\n",
      " [0. 0. 0. ... 0. 0. 0.]]\n"
     ]
    }
   ],
   "source": [
    "from tensorflow.keras.utils import to_categorical\n",
    "\n",
    "# 각 데이터의 레이블을 범주형 형태로 변경\n",
    "y_train = to_categorical(y_train)\n",
    "y_val = to_categorical(y_val)\n",
    "y_test = to_categorical(y_test)\n",
    "\n",
    "print(y_train)"
   ]
  },
  {
   "cell_type": "code",
   "execution_count": 21,
   "metadata": {},
   "outputs": [],
   "source": [
    "from tensorflow.keras.models import Sequential\n",
    "from tensorflow.keras.layers import Dense\n",
    "\n",
    "model = Sequential()\n",
    "# 입력 데이터의 형태를 꼭 명시해야 함\n",
    "# 784차원의 데이터를 입력으로 받고, 64개의 출력을 가지는 첫번째 Dense층\n",
    "model.add(Dense(64, activation = 'relu', input_shape = (784, )))\n",
    "model.add(Dense(32, activation = 'relu'))       # 32개의 출력을 가지는 Dense층\n",
    "model.add(Dense(10, activation = 'softmax'))    # 10개의 출력을 가지는 신경망"
   ]
  },
  {
   "cell_type": "markdown",
   "metadata": {},
   "source": [
    "### 소프트맥스와 시그모이드 값의 비교"
   ]
  },
  {
   "cell_type": "code",
   "execution_count": 22,
   "metadata": {},
   "outputs": [
    {
     "name": "stdout",
     "output_type": "stream",
     "text": [
      "sigmoid [0.957 0.953 0.948], softmax [0.367 0.332 0.301]\n",
      "sigmoid [0.881 0.731 0.668], softmax [0.61  0.224 0.166]\n"
     ]
    }
   ],
   "source": [
    "def softmax(arr):\n",
    "    m = np.max(arr)\n",
    "    arr = arr - m   # exp의 오버플로우 방지\n",
    "    arr = np.exp(arr)\n",
    "    return arr / np.sum(arr)\n",
    "\n",
    "def sigmoid(x):\n",
    "    return 1 / (1 + np.exp(-x))\n",
    "\n",
    "case_1 = np.array([3.1, 3.0, 2.9])\n",
    "case_2 = np.array([2.0, 1.0, 0.7])\n",
    "\n",
    "np.set_printoptions(precision=3)    # numpy 소수점 제한\n",
    "print(f'sigmoid {sigmoid(case_1)}, softmax {softmax(case_1)}')\n",
    "print(f'sigmoid {sigmoid(case_2)}, softmax {softmax(case_2)}')\n"
   ]
  },
  {
   "cell_type": "markdown",
   "metadata": {},
   "source": [
    "### 학습과정 설정"
   ]
  },
  {
   "cell_type": "code",
   "execution_count": 23,
   "metadata": {},
   "outputs": [],
   "source": [
    "model.compile(optimizer='adam',     # 옵티마이저: Adam \n",
    "            # 손실함수: categorical_crossentropy\n",
    "            loss = 'categorical_crossentropy',\n",
    "            # 모니터링 할 평가지표: acc\n",
    "            metrics = ['acc']\n",
    ")"
   ]
  },
  {
   "cell_type": "markdown",
   "metadata": {},
   "source": [
    "### 모델 학습하기"
   ]
  },
  {
   "cell_type": "code",
   "execution_count": 24,
   "metadata": {},
   "outputs": [
    {
     "name": "stdout",
     "output_type": "stream",
     "text": [
      "Epoch 1/30\n",
      "329/329 [==============================] - 1s 3ms/step - loss: 0.5276 - acc: 0.8477 - val_loss: 0.2446 - val_acc: 0.9314\n",
      "Epoch 2/30\n",
      "329/329 [==============================] - 1s 3ms/step - loss: 0.2143 - acc: 0.9387 - val_loss: 0.1885 - val_acc: 0.9472\n",
      "Epoch 3/30\n",
      "329/329 [==============================] - 1s 3ms/step - loss: 0.1602 - acc: 0.9544 - val_loss: 0.1629 - val_acc: 0.9539\n",
      "Epoch 4/30\n",
      "329/329 [==============================] - 1s 2ms/step - loss: 0.1298 - acc: 0.9634 - val_loss: 0.1372 - val_acc: 0.9601\n",
      "Epoch 5/30\n",
      "329/329 [==============================] - 1s 3ms/step - loss: 0.1064 - acc: 0.9699 - val_loss: 0.1340 - val_acc: 0.9603\n",
      "Epoch 6/30\n",
      "329/329 [==============================] - 1s 3ms/step - loss: 0.0921 - acc: 0.9726 - val_loss: 0.1301 - val_acc: 0.9596\n",
      "Epoch 7/30\n",
      "329/329 [==============================] - 1s 3ms/step - loss: 0.0801 - acc: 0.9768 - val_loss: 0.1135 - val_acc: 0.9668\n",
      "Epoch 8/30\n",
      "329/329 [==============================] - 1s 3ms/step - loss: 0.0687 - acc: 0.9803 - val_loss: 0.1095 - val_acc: 0.9678\n",
      "Epoch 9/30\n",
      "329/329 [==============================] - 1s 3ms/step - loss: 0.0608 - acc: 0.9826 - val_loss: 0.1072 - val_acc: 0.9687\n",
      "Epoch 10/30\n",
      "329/329 [==============================] - 1s 2ms/step - loss: 0.0565 - acc: 0.9831 - val_loss: 0.1067 - val_acc: 0.9689\n",
      "Epoch 11/30\n",
      "329/329 [==============================] - 1s 3ms/step - loss: 0.0481 - acc: 0.9861 - val_loss: 0.1103 - val_acc: 0.9676\n",
      "Epoch 12/30\n",
      "329/329 [==============================] - 1s 3ms/step - loss: 0.0405 - acc: 0.9888 - val_loss: 0.1085 - val_acc: 0.9691\n",
      "Epoch 13/30\n",
      "329/329 [==============================] - 1s 3ms/step - loss: 0.0369 - acc: 0.9890 - val_loss: 0.1093 - val_acc: 0.9676\n",
      "Epoch 14/30\n",
      "329/329 [==============================] - 1s 3ms/step - loss: 0.0345 - acc: 0.9902 - val_loss: 0.1089 - val_acc: 0.9690\n",
      "Epoch 15/30\n",
      "329/329 [==============================] - 1s 3ms/step - loss: 0.0295 - acc: 0.9918 - val_loss: 0.1095 - val_acc: 0.9695\n",
      "Epoch 16/30\n",
      "329/329 [==============================] - 1s 3ms/step - loss: 0.0272 - acc: 0.9927 - val_loss: 0.1196 - val_acc: 0.9669\n",
      "Epoch 17/30\n",
      "329/329 [==============================] - 1s 3ms/step - loss: 0.0234 - acc: 0.9938 - val_loss: 0.1149 - val_acc: 0.9689\n",
      "Epoch 18/30\n",
      "329/329 [==============================] - 1s 3ms/step - loss: 0.0198 - acc: 0.9947 - val_loss: 0.1153 - val_acc: 0.9692\n",
      "Epoch 19/30\n",
      "329/329 [==============================] - 1s 3ms/step - loss: 0.0181 - acc: 0.9950 - val_loss: 0.1196 - val_acc: 0.9688\n",
      "Epoch 20/30\n",
      "329/329 [==============================] - 1s 3ms/step - loss: 0.0149 - acc: 0.9963 - val_loss: 0.1169 - val_acc: 0.9700\n",
      "Epoch 21/30\n",
      "329/329 [==============================] - 1s 2ms/step - loss: 0.0130 - acc: 0.9967 - val_loss: 0.1201 - val_acc: 0.9705\n",
      "Epoch 22/30\n",
      "329/329 [==============================] - 1s 3ms/step - loss: 0.0125 - acc: 0.9970 - val_loss: 0.1224 - val_acc: 0.9708\n",
      "Epoch 23/30\n",
      "329/329 [==============================] - 1s 3ms/step - loss: 0.0128 - acc: 0.9967 - val_loss: 0.1259 - val_acc: 0.9702\n",
      "Epoch 24/30\n",
      "329/329 [==============================] - 1s 3ms/step - loss: 0.0109 - acc: 0.9973 - val_loss: 0.1317 - val_acc: 0.9701\n",
      "Epoch 25/30\n",
      "329/329 [==============================] - 1s 3ms/step - loss: 0.0089 - acc: 0.9980 - val_loss: 0.1249 - val_acc: 0.9716\n",
      "Epoch 26/30\n",
      "329/329 [==============================] - 1s 3ms/step - loss: 0.0065 - acc: 0.9988 - val_loss: 0.1372 - val_acc: 0.9689\n",
      "Epoch 27/30\n",
      "329/329 [==============================] - 1s 3ms/step - loss: 0.0101 - acc: 0.9973 - val_loss: 0.1488 - val_acc: 0.9680\n",
      "Epoch 28/30\n",
      "329/329 [==============================] - 1s 3ms/step - loss: 0.0101 - acc: 0.9971 - val_loss: 0.1433 - val_acc: 0.9690\n",
      "Epoch 29/30\n",
      "329/329 [==============================] - 1s 3ms/step - loss: 0.0058 - acc: 0.9987 - val_loss: 0.1421 - val_acc: 0.9704\n",
      "Epoch 30/30\n",
      "329/329 [==============================] - 1s 3ms/step - loss: 0.0033 - acc: 0.9996 - val_loss: 0.1430 - val_acc: 0.9707\n"
     ]
    }
   ],
   "source": [
    "history = model.fit(x_train, y_train,\n",
    "                    epochs = 30,\n",
    "                    batch_size = 128,\n",
    "                    validation_data = (x_val, y_val))"
   ]
  },
  {
   "cell_type": "markdown",
   "metadata": {},
   "source": [
    "### history를 통해 확인해볼 수 있는 값 출력"
   ]
  },
  {
   "cell_type": "code",
   "execution_count": 29,
   "metadata": {},
   "outputs": [
    {
     "data": {
      "text/plain": [
       "dict_keys(['loss', 'acc', 'val_loss', 'val_acc'])"
      ]
     },
     "execution_count": 29,
     "metadata": {},
     "output_type": "execute_result"
    }
   ],
   "source": [
    "history.history.keys()"
   ]
  },
  {
   "cell_type": "markdown",
   "metadata": {},
   "source": [
    "### 학습 결과 그려보기"
   ]
  },
  {
   "cell_type": "code",
   "execution_count": 32,
   "metadata": {},
   "outputs": [
    {
     "data": {
      "image/png": "[encoded data removed]",
      "text/plain": [
       "<Figure size 720x360 with 2 Axes>"
      ]
     },
     "metadata": {
      "needs_background": "light"
     },
     "output_type": "display_data"
    }
   ],
   "source": [
    "import matplotlib.pyplot as plt\n",
    "\n",
    "his_dict = history.history\n",
    "loss = his_dict['loss']\n",
    "val_loss = his_dict['val_loss']     # 검증 데이터가 있는 경우 val_ 수식어가 붙음\n",
    "\n",
    "epochs = range(1, len(loss) +1)\n",
    "fig = plt.figure(figsize = (10, 5))\n",
    "\n",
    "# 학습 및 검증 손실 그리기\n",
    "ax1 = fig.add_subplot(1, 2, 1)\n",
    "ax1.plot(epochs, loss, color = 'blue', label = 'train_loss')\n",
    "ax1.plot(epochs, val_loss, color = 'orange', label = 'val_loss')\n",
    "ax1.set_title('train and val loss')\n",
    "ax1.set_xlabel('epochs')\n",
    "ax1.set_ylabel('loss')\n",
    "ax1.legend()\n",
    "\n",
    "acc = his_dict['acc']\n",
    "val_acc = his_dict['val_acc']\n",
    "\n",
    "# 학습 및 검증 정확도 그리기\n",
    "ax2 = fig.add_subplot(1, 2, 2)\n",
    "ax2.plot(epochs, acc, color = 'blue', label = 'train_acc')\n",
    "ax2.plot(epochs, val_acc, color = 'orange', label = 'val_lacc')\n",
    "ax2.set_title('train and val loss')\n",
    "ax2.set_xlabel('epochs')\n",
    "ax2.set_ylabel('acc')\n",
    "ax2.legend()\n",
    "\n",
    "plt.show()"
   ]
  },
  {
   "cell_type": "markdown",
   "metadata": {},
   "source": [
    "### 모델 평가하기"
   ]
  },
  {
   "cell_type": "code",
   "execution_count": 33,
   "metadata": {},
   "outputs": [
    {
     "name": "stdout",
     "output_type": "stream",
     "text": [
      "313/313 [==============================] - 0s 1ms/step - loss: 0.1327 - acc: 0.9719\n"
     ]
    },
    {
     "data": {
      "text/plain": [
       "[0.13268208503723145, 0.9718999862670898]"
      ]
     },
     "execution_count": 33,
     "metadata": {},
     "output_type": "execute_result"
    }
   ],
   "source": [
    "model.evaluate(x_test, y_test)"
   ]
  },
  {
   "cell_type": "markdown",
   "metadata": {},
   "source": [
    "### 학습된 모델을 통해 값 예측하기"
   ]
  },
  {
   "cell_type": "code",
   "execution_count": 34,
   "metadata": {},
   "outputs": [
    {
     "name": "stdout",
     "output_type": "stream",
     "text": [
      "(10000, 10)\n",
      "각 클래스에 속할 확률: \n",
      "[2.8914952e-11 7.4276560e-13 2.2505526e-09 3.3910581e-04 4.4974763e-17\n",
      " 2.3167241e-09 1.1297637e-17 9.9966085e-01 6.8513201e-10 5.2138129e-09]\n"
     ]
    }
   ],
   "source": [
    "import numpy as np\n",
    "\n",
    "results = model.predict(x_test)\n",
    "print(results.shape)\n",
    "np.set_printoptions(precision=7)    # numpy 소수점 제한\n",
    "print(f'각 클래스에 속할 확률: \\n{results [0]}')"
   ]
  },
  {
   "cell_type": "markdown",
   "metadata": {},
   "source": [
    "### 예측값 그려서 확인해보기"
   ]
  },
  {
   "cell_type": "code",
   "execution_count": 35,
   "metadata": {},
   "outputs": [
    {
     "data": {
      "image/png": "[encoded data removed]",
      "text/plain": [
       "<Figure size 432x288 with 1 Axes>"
      ]
     },
     "metadata": {
      "needs_background": "light"
     },
     "output_type": "display_data"
    }
   ],
   "source": [
    "import matplotlib.pyplot as plt\n",
    "\n",
    "arg_results = np.argmax(results, axis = -1)     # 가장 큰 값의 인덱스를 가져옴\n",
    "plt.imshow(x_test[0].reshape(28, 28))\n",
    "plt.title('predicted value of the first image : ' + str(arg_results[0]))\n",
    "plt.show()"
   ]
  },
  {
   "cell_type": "markdown",
   "metadata": {},
   "source": [
    "### 모델 평가 방법 1-혼동행렬"
   ]
  },
  {
   "cell_type": "code",
   "execution_count": 36,
   "metadata": {},
   "outputs": [],
   "source": [
    "# sklearn.metrics 모듈은 여러가지 평가지표에 관한 기능을 제공\n",
    "from sklearn.metrics import classification_report, confusion_matrix\n",
    "import matplotlib.pyplot as plt\n",
    "import seaborn as sns"
   ]
  },
  {
   "cell_type": "code",
   "execution_count": 37,
   "metadata": {},
   "outputs": [
    {
     "data": {
      "image/png": "[encoded data removed]",
      "text/plain": [
       "<Figure size 504x504 with 2 Axes>"
      ]
     },
     "metadata": {
      "needs_background": "light"
     },
     "output_type": "display_data"
    }
   ],
   "source": [
    "# 혼동행렬을 만듬\n",
    "plt.figure(figsize = (7, 7))\n",
    "cm = confusion_matrix(np.argmax(y_test, axis = -1), np.argmax(results, axis = -1))\n",
    "sns.heatmap(cm, annot = True, fmt = 'd', cmap = 'Blues')\n",
    "plt.xlabel('predicted label')\n",
    "plt.ylabel('true label')\n",
    "plt.show()"
   ]
  },
  {
   "cell_type": "markdown",
   "metadata": {},
   "source": [
    "### 모델 평가 방법-2 분류 보고서"
   ]
  },
  {
   "cell_type": "code",
   "execution_count": 38,
   "metadata": {},
   "outputs": [
    {
     "name": "stdout",
     "output_type": "stream",
     "text": [
      "\n",
      "               precision    recall  f1-score   support\n",
      "\n",
      "           0       0.98      0.98      0.98       980\n",
      "           1       0.99      0.98      0.99      1135\n",
      "           2       0.97      0.97      0.97      1032\n",
      "           3       0.98      0.97      0.97      1010\n",
      "           4       0.98      0.96      0.97       982\n",
      "           5       0.96      0.97      0.97       892\n",
      "           6       0.97      0.97      0.97       958\n",
      "           7       0.98      0.97      0.97      1028\n",
      "           8       0.95      0.96      0.96       974\n",
      "           9       0.96      0.96      0.96      1009\n",
      "\n",
      "    accuracy                           0.97     10000\n",
      "   macro avg       0.97      0.97      0.97     10000\n",
      "weighted avg       0.97      0.97      0.97     10000\n",
      "\n"
     ]
    }
   ],
   "source": [
    "print('\\n', classification_report(np.argmax(y_test, axis = -1), np.argmax(results, axis = -1)))"
   ]
  },
  {
   "cell_type": "code",
   "execution_count": null,
   "metadata": {},
   "outputs": [],
   "source": []
  }
 ],
 "metadata": {
  "interpreter": {
   "hash": "fc75f626a8e3c2dd59afd3c3c66f1a8447434e7a01cce97eb72573ea9477b80f"
  },
  "kernelspec": {
   "display_name": "Python 3.9.12 ('kdig')",
   "language": "python",
   "name": "python3"
  },
  "language_info": {
   "codemirror_mode": {
    "name": "ipython",
    "version": 3
   },
   "file_extension": ".py",
   "mimetype": "text/x-python",
   "name": "python",
   "nbconvert_exporter": "python",
   "pygments_lexer": "ipython3",
   "version": "3.9.12"
  },
  "orig_nbformat": 4
 },
 "nbformat": 4,
 "nbformat_minor": 2
}
