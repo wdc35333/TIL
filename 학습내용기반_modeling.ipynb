{
  "cells": [
    {
      "cell_type": "markdown",
      "source": [
        "Model 4 부분이 제가 보낸 모델입니다"
      ],
      "metadata": {
        "id": "-nKCp4807Mas"
      }
    },
    {
      "cell_type": "code",
      "execution_count": 2,
      "metadata": {
        "id": "zoqjLDCnj7Mw"
      },
      "outputs": [],
      "source": [
        "import numpy as np\n",
        "import pandas as pd\n",
        "import warnings\n",
        "warnings.filterwarnings('ignore')"
      ]
    },
    {
      "cell_type": "code",
      "execution_count": 6,
      "metadata": {
        "colab": {
          "base_uri": "https://localhost:8080/"
        },
        "id": "c0V4-7F5ucD2",
        "outputId": "65ddf7cd-de43-42c5-816a-fbf4bd1aebc8"
      },
      "outputs": [
        {
          "output_type": "stream",
          "name": "stdout",
          "text": [
            "Mounted at /content/drive\n"
          ]
        }
      ],
      "source": [
        "from google.colab import drive\n",
        "\n",
        "drive.mount('/content/drive')"
      ]
    },
    {
      "cell_type": "code",
      "execution_count": 7,
      "metadata": {
        "colab": {
          "base_uri": "https://localhost:8080/"
        },
        "id": "hGqxZBttur7g",
        "outputId": "d50e4551-4d02-46b0-d0c1-738e44a38b61"
      },
      "outputs": [
        {
          "output_type": "stream",
          "name": "stdout",
          "text": [
            "/content/drive/MyDrive/멀티캠퍼스 2차 프로젝트 5조\n"
          ]
        }
      ],
      "source": [
        "%cd /content/drive/MyDrive/멀티캠퍼스 2차 프로젝트 5조"
      ]
    },
    {
      "cell_type": "code",
      "execution_count": 8,
      "metadata": {
        "colab": {
          "base_uri": "https://localhost:8080/",
          "height": 257
        },
        "id": "Ef9vV7-Plg8k",
        "outputId": "0f52d7cc-cbbc-4f06-aeff-b6128449b424"
      },
      "outputs": [
        {
          "output_type": "execute_result",
          "data": {
            "text/plain": [
              "                                                  문장  여성/가족  남성  성소수자  인종/국적  \\\n",
              "0       문재앙은 김정은의 운전사도 안되는 똥휴지다  개돼지들이 뽑은 재앙민국이 망해간다      0   0     0      0   \n",
              "1  근데 사람들이 우스갯소리로  일 재앙이라고 했는데 이제보니 장난아니고  일   재앙...      0   0     0      0   \n",
              "2  공무뭔들도 정권 바뀐다는걸 아는구나 이놈들은 원래 연줄이 밥줄이라 눈치는 백단이지 ...      0   0     0      0   \n",
              "\n",
              "   연령  지역  종교  기타혐오  악플/욕설  clean  분쟁유발  \\\n",
              "0   0   0   0     0      1      0   1.0   \n",
              "1   0   0   0     0      0      0   1.0   \n",
              "2   0   0   0     0      1      0   1.0   \n",
              "\n",
              "                                                교정문장  \\\n",
              "0    물 재앙은 김정은의 운전사도 안되는 똥 휴지다  개돼지들이 뽑은 재앙 민국이 망해간다   \n",
              "1  근데 사람들이 우스갯소리로  일 재앙이라고 했는데 이제 보니 장난 아니고  일   ...   \n",
              "2  공무 뭔들도 정권 바뀐다는 걸 아는구나 이놈들은 원래 연줄이 밥줄이라 눈치는 백단이...   \n",
              "\n",
              "                                            띄어쓰기수정문장  \n",
              "0    문재앙은 김정은의 운전사도 안 되는 똥 휴지 다 개 돼지들이 뽑은 재앙민국이 망해간다  \n",
              "1  근데 사람들이 우스갯소리로 일 재앙이라고 했는데 이 제보니 장난 아니고 일 재앙은 ...  \n",
              "2  공무뭔들도 정권 바뀐다는 걸 아는구나 이놈들은 원래 연줄이 밥줄이라 눈치는 백단이지...  "
            ],
            "text/html": [
              "\n",
              "  <div id=\"df-a73b60bc-5c5a-4f73-a2b6-965e6a6d067f\">\n",
              "    <div class=\"colab-df-container\">\n",
              "      <div>\n",
              "<style scoped>\n",
              "    .dataframe tbody tr th:only-of-type {\n",
              "        vertical-align: middle;\n",
              "    }\n",
              "\n",
              "    .dataframe tbody tr th {\n",
              "        vertical-align: top;\n",
              "    }\n",
              "\n",
              "    .dataframe thead th {\n",
              "        text-align: right;\n",
              "    }\n",
              "</style>\n",
              "<table border=\"1\" class=\"dataframe\">\n",
              "  <thead>\n",
              "    <tr style=\"text-align: right;\">\n",
              "      <th></th>\n",
              "      <th>문장</th>\n",
              "      <th>여성/가족</th>\n",
              "      <th>남성</th>\n",
              "      <th>성소수자</th>\n",
              "      <th>인종/국적</th>\n",
              "      <th>연령</th>\n",
              "      <th>지역</th>\n",
              "      <th>종교</th>\n",
              "      <th>기타혐오</th>\n",
              "      <th>악플/욕설</th>\n",
              "      <th>clean</th>\n",
              "      <th>분쟁유발</th>\n",
              "      <th>교정문장</th>\n",
              "      <th>띄어쓰기수정문장</th>\n",
              "    </tr>\n",
              "  </thead>\n",
              "  <tbody>\n",
              "    <tr>\n",
              "      <th>0</th>\n",
              "      <td>문재앙은 김정은의 운전사도 안되는 똥휴지다  개돼지들이 뽑은 재앙민국이 망해간다</td>\n",
              "      <td>0</td>\n",
              "      <td>0</td>\n",
              "      <td>0</td>\n",
              "      <td>0</td>\n",
              "      <td>0</td>\n",
              "      <td>0</td>\n",
              "      <td>0</td>\n",
              "      <td>0</td>\n",
              "      <td>1</td>\n",
              "      <td>0</td>\n",
              "      <td>1.0</td>\n",
              "      <td>물 재앙은 김정은의 운전사도 안되는 똥 휴지다  개돼지들이 뽑은 재앙 민국이 망해간다</td>\n",
              "      <td>문재앙은 김정은의 운전사도 안 되는 똥 휴지 다 개 돼지들이 뽑은 재앙민국이 망해간다</td>\n",
              "    </tr>\n",
              "    <tr>\n",
              "      <th>1</th>\n",
              "      <td>근데 사람들이 우스갯소리로  일 재앙이라고 했는데 이제보니 장난아니고  일   재앙...</td>\n",
              "      <td>0</td>\n",
              "      <td>0</td>\n",
              "      <td>0</td>\n",
              "      <td>0</td>\n",
              "      <td>0</td>\n",
              "      <td>0</td>\n",
              "      <td>0</td>\n",
              "      <td>0</td>\n",
              "      <td>0</td>\n",
              "      <td>0</td>\n",
              "      <td>1.0</td>\n",
              "      <td>근데 사람들이 우스갯소리로  일 재앙이라고 했는데 이제 보니 장난 아니고  일   ...</td>\n",
              "      <td>근데 사람들이 우스갯소리로 일 재앙이라고 했는데 이 제보니 장난 아니고 일 재앙은 ...</td>\n",
              "    </tr>\n",
              "    <tr>\n",
              "      <th>2</th>\n",
              "      <td>공무뭔들도 정권 바뀐다는걸 아는구나 이놈들은 원래 연줄이 밥줄이라 눈치는 백단이지 ...</td>\n",
              "      <td>0</td>\n",
              "      <td>0</td>\n",
              "      <td>0</td>\n",
              "      <td>0</td>\n",
              "      <td>0</td>\n",
              "      <td>0</td>\n",
              "      <td>0</td>\n",
              "      <td>0</td>\n",
              "      <td>1</td>\n",
              "      <td>0</td>\n",
              "      <td>1.0</td>\n",
              "      <td>공무 뭔들도 정권 바뀐다는 걸 아는구나 이놈들은 원래 연줄이 밥줄이라 눈치는 백단이...</td>\n",
              "      <td>공무뭔들도 정권 바뀐다는 걸 아는구나 이놈들은 원래 연줄이 밥줄이라 눈치는 백단이지...</td>\n",
              "    </tr>\n",
              "  </tbody>\n",
              "</table>\n",
              "</div>\n",
              "      <button class=\"colab-df-convert\" onclick=\"convertToInteractive('df-a73b60bc-5c5a-4f73-a2b6-965e6a6d067f')\"\n",
              "              title=\"Convert this dataframe to an interactive table.\"\n",
              "              style=\"display:none;\">\n",
              "        \n",
              "  <svg xmlns=\"http://www.w3.org/2000/svg\" height=\"24px\"viewBox=\"0 0 24 24\"\n",
              "       width=\"24px\">\n",
              "    <path d=\"M0 0h24v24H0V0z\" fill=\"none\"/>\n",
              "    <path d=\"M18.56 5.44l.94 2.06.94-2.06 2.06-.94-2.06-.94-.94-2.06-.94 2.06-2.06.94zm-11 1L8.5 8.5l.94-2.06 2.06-.94-2.06-.94L8.5 2.5l-.94 2.06-2.06.94zm10 10l.94 2.06.94-2.06 2.06-.94-2.06-.94-.94-2.06-.94 2.06-2.06.94z\"/><path d=\"M17.41 7.96l-1.37-1.37c-.4-.4-.92-.59-1.43-.59-.52 0-1.04.2-1.43.59L10.3 9.45l-7.72 7.72c-.78.78-.78 2.05 0 2.83L4 21.41c.39.39.9.59 1.41.59.51 0 1.02-.2 1.41-.59l7.78-7.78 2.81-2.81c.8-.78.8-2.07 0-2.86zM5.41 20L4 18.59l7.72-7.72 1.47 1.35L5.41 20z\"/>\n",
              "  </svg>\n",
              "      </button>\n",
              "      \n",
              "  <style>\n",
              "    .colab-df-container {\n",
              "      display:flex;\n",
              "      flex-wrap:wrap;\n",
              "      gap: 12px;\n",
              "    }\n",
              "\n",
              "    .colab-df-convert {\n",
              "      background-color: #E8F0FE;\n",
              "      border: none;\n",
              "      border-radius: 50%;\n",
              "      cursor: pointer;\n",
              "      display: none;\n",
              "      fill: #1967D2;\n",
              "      height: 32px;\n",
              "      padding: 0 0 0 0;\n",
              "      width: 32px;\n",
              "    }\n",
              "\n",
              "    .colab-df-convert:hover {\n",
              "      background-color: #E2EBFA;\n",
              "      box-shadow: 0px 1px 2px rgba(60, 64, 67, 0.3), 0px 1px 3px 1px rgba(60, 64, 67, 0.15);\n",
              "      fill: #174EA6;\n",
              "    }\n",
              "\n",
              "    [theme=dark] .colab-df-convert {\n",
              "      background-color: #3B4455;\n",
              "      fill: #D2E3FC;\n",
              "    }\n",
              "\n",
              "    [theme=dark] .colab-df-convert:hover {\n",
              "      background-color: #434B5C;\n",
              "      box-shadow: 0px 1px 3px 1px rgba(0, 0, 0, 0.15);\n",
              "      filter: drop-shadow(0px 1px 2px rgba(0, 0, 0, 0.3));\n",
              "      fill: #FFFFFF;\n",
              "    }\n",
              "  </style>\n",
              "\n",
              "      <script>\n",
              "        const buttonEl =\n",
              "          document.querySelector('#df-a73b60bc-5c5a-4f73-a2b6-965e6a6d067f button.colab-df-convert');\n",
              "        buttonEl.style.display =\n",
              "          google.colab.kernel.accessAllowed ? 'block' : 'none';\n",
              "\n",
              "        async function convertToInteractive(key) {\n",
              "          const element = document.querySelector('#df-a73b60bc-5c5a-4f73-a2b6-965e6a6d067f');\n",
              "          const dataTable =\n",
              "            await google.colab.kernel.invokeFunction('convertToInteractive',\n",
              "                                                     [key], {});\n",
              "          if (!dataTable) return;\n",
              "\n",
              "          const docLinkHtml = 'Like what you see? Visit the ' +\n",
              "            '<a target=\"_blank\" href=https://colab.research.google.com/notebooks/data_table.ipynb>data table notebook</a>'\n",
              "            + ' to learn more about interactive tables.';\n",
              "          element.innerHTML = '';\n",
              "          dataTable['output_type'] = 'display_data';\n",
              "          await google.colab.output.renderOutput(dataTable, element);\n",
              "          const docLink = document.createElement('div');\n",
              "          docLink.innerHTML = docLinkHtml;\n",
              "          element.appendChild(docLink);\n",
              "        }\n",
              "      </script>\n",
              "    </div>\n",
              "  </div>\n",
              "  "
            ]
          },
          "metadata": {},
          "execution_count": 8
        }
      ],
      "source": [
        "raw_data = pd.read_csv('common_data.csv')\n",
        "raw_data.head(3)"
      ]
    },
    {
      "cell_type": "code",
      "execution_count": null,
      "metadata": {
        "id": "reGHME8bkMQj"
      },
      "outputs": [],
      "source": [
        "!git clone https://github.com/SOMJANG/Mecab-ko-for-Google-Colab.git\n",
        "%cd Mecab-ko-for-Google-Colab\n",
        "!bash install_mecab-ko_on_colab_light_220429.sh"
      ]
    },
    {
      "cell_type": "code",
      "execution_count": 9,
      "metadata": {
        "colab": {
          "base_uri": "https://localhost:8080/"
        },
        "id": "_6AHv2WpkODj",
        "outputId": "ac711f28-d10e-4f43-9a06-7265384432a6"
      },
      "outputs": [
        {
          "output_type": "stream",
          "name": "stdout",
          "text": [
            "/content/drive/MyDrive/멀티캠퍼스 2차 프로젝트 5조\n"
          ]
        }
      ],
      "source": [
        "from konlpy.tag import Mecab\n",
        "from tqdm.notebook import tqdm\n",
        "%cd /content/drive/MyDrive/멀티캠퍼스 2차 프로젝트 5조\n",
        "\n",
        "mecab = Mecab()\n",
        "f = open('stopwords.txt', 'r')\n",
        "stopwords = []\n",
        "while True:\n",
        "  temp = f.readline().strip()\n",
        "  if not temp:\n",
        "    break\n",
        "  stopwords.append(temp)"
      ]
    },
    {
      "cell_type": "code",
      "execution_count": 131,
      "metadata": {
        "id": "YBlNHvVYlI_g"
      },
      "outputs": [],
      "source": [
        "# 데이터셋 나누기는 해야함\n",
        "raw_data = raw_data.sample(len(raw_data))\n",
        "X_train = raw_data.iloc[:37925, 0]\n",
        "y_train = raw_data.iloc[:37925, 1:-2]\n",
        "X_test = raw_data.iloc[37925:, 0]\n",
        "y_test = raw_data.iloc[37925:, 1:-2]"
      ]
    },
    {
      "cell_type": "code",
      "execution_count": 132,
      "metadata": {
        "colab": {
          "base_uri": "https://localhost:8080/",
          "height": 49,
          "referenced_widgets": [
            "0e9691847d834e6b8fd30301bad5c730",
            "29da6f03d67d4df2a5a05b7a6b700c9d",
            "47fe81dafe0b4b21be063168643b3f3c",
            "af42d1241d184146a5111b0f0be0db00",
            "7f510115f5414c95a561dd7d60c83a43",
            "c4b7f5ad67f34881b8b4ba8b4dd2c680",
            "1923477b3c7d46a8a9a333cbf5133836",
            "e332677afea34bbc919ef27d17a2a6a8",
            "fb990ce4cf804f0e8b41a407e66a990a",
            "e65b8e65ff7842ceb71505f5624741b8",
            "45957e97fb9143ee9177a0a6601ebd75"
          ]
        },
        "id": "jqwoLgukkmOP",
        "outputId": "bc1dd1c4-9218-4e01-b10b-71fcccfeed50"
      },
      "outputs": [
        {
          "output_type": "display_data",
          "data": {
            "text/plain": [
              "  0%|          | 0/37925 [00:00<?, ?it/s]"
            ],
            "application/vnd.jupyter.widget-view+json": {
              "version_major": 2,
              "version_minor": 0,
              "model_id": "0e9691847d834e6b8fd30301bad5c730"
            }
          },
          "metadata": {}
        }
      ],
      "source": [
        "train_data = []\n",
        "for sentence in tqdm(X_train):\n",
        "  morphs = mecab.morphs(sentence)\n",
        "  tmp_X = [word for word in morphs if word not in stopwords]\n",
        "  train_data.append(tmp_X)"
      ]
    },
    {
      "cell_type": "code",
      "execution_count": 133,
      "metadata": {
        "colab": {
          "base_uri": "https://localhost:8080/",
          "height": 49,
          "referenced_widgets": [
            "57b2d33176ff472a82eef2ef7db573ff",
            "83631d544eb444029ea95797145aec1a",
            "1803afb5b2094f47be72eacb11a74813",
            "ae928b2d3e844d5c9eeedc1a3b5d5120",
            "010f10e3dfba497388fffb51cffbf851",
            "bdd0b741371a4d1ab781320217b30b3f",
            "0cbcc08aed294c3b8681040d73e397a9",
            "464895508eb446dc8fa78a92d85c052d",
            "5bbc4642b6f546e78c3f092d88e55730",
            "37cf2fb4deb742ab93dd2c2a599ef96e",
            "10d543aa62434c43818f93d38fe37b60"
          ]
        },
        "id": "cWsdYkpN7U6o",
        "outputId": "199abe31-21d6-4c7a-b970-fb6336b93f52"
      },
      "outputs": [
        {
          "output_type": "display_data",
          "data": {
            "text/plain": [
              "  0%|          | 0/9484 [00:00<?, ?it/s]"
            ],
            "application/vnd.jupyter.widget-view+json": {
              "version_major": 2,
              "version_minor": 0,
              "model_id": "57b2d33176ff472a82eef2ef7db573ff"
            }
          },
          "metadata": {}
        }
      ],
      "source": [
        "test_data = []\n",
        "for sentence in tqdm(X_test):\n",
        "  morphs = mecab.morphs(sentence)\n",
        "  tmp_X = [word for word in morphs if word not in stopwords]\n",
        "  test_data.append(tmp_X)"
      ]
    },
    {
      "cell_type": "code",
      "execution_count": 14,
      "metadata": {
        "id": "wDvDV7FV8bBN"
      },
      "outputs": [],
      "source": [
        "import pickle\n",
        "\n",
        "t = pd.read_pickle('tokenizer.pkl')"
      ]
    },
    {
      "cell_type": "code",
      "execution_count": 16,
      "metadata": {
        "id": "maX04VuZl5CY",
        "colab": {
          "base_uri": "https://localhost:8080/",
          "height": 220
        },
        "outputId": "e3e28cc8-faab-4c4b-b75d-6a0cfa495591"
      },
      "outputs": [
        {
          "output_type": "error",
          "ename": "NameError",
          "evalue": "ignored",
          "traceback": [
            "\u001b[0;31m---------------------------------------------------------------------------\u001b[0m",
            "\u001b[0;31mNameError\u001b[0m                                 Traceback (most recent call last)",
            "\u001b[0;32m<ipython-input-16-a8760e8e2a14>\u001b[0m in \u001b[0;36m<module>\u001b[0;34m()\u001b[0m\n\u001b[1;32m      3\u001b[0m \u001b[0mnp\u001b[0m\u001b[0;34m.\u001b[0m\u001b[0mrandom\u001b[0m\u001b[0;34m.\u001b[0m\u001b[0mseed\u001b[0m\u001b[0;34m(\u001b[0m\u001b[0mseed\u001b[0m\u001b[0;34m)\u001b[0m\u001b[0;34m\u001b[0m\u001b[0;34m\u001b[0m\u001b[0m\n\u001b[1;32m      4\u001b[0m \u001b[0mtf\u001b[0m\u001b[0;34m.\u001b[0m\u001b[0mrandom\u001b[0m\u001b[0;34m.\u001b[0m\u001b[0mset_seed\u001b[0m\u001b[0;34m(\u001b[0m\u001b[0mseed\u001b[0m\u001b[0;34m)\u001b[0m\u001b[0;34m\u001b[0m\u001b[0;34m\u001b[0m\u001b[0m\n\u001b[0;32m----> 5\u001b[0;31m \u001b[0mX_train\u001b[0m \u001b[0;34m=\u001b[0m \u001b[0mt\u001b[0m\u001b[0;34m.\u001b[0m\u001b[0mtexts_to_sequences\u001b[0m\u001b[0;34m(\u001b[0m\u001b[0mtrain_data\u001b[0m\u001b[0;34m)\u001b[0m\u001b[0;34m\u001b[0m\u001b[0;34m\u001b[0m\u001b[0m\n\u001b[0m\u001b[1;32m      6\u001b[0m \u001b[0mX_test\u001b[0m \u001b[0;34m=\u001b[0m \u001b[0mt\u001b[0m\u001b[0;34m.\u001b[0m\u001b[0mtexts_to_sequences\u001b[0m\u001b[0;34m(\u001b[0m\u001b[0mtest_data\u001b[0m\u001b[0;34m)\u001b[0m\u001b[0;34m\u001b[0m\u001b[0;34m\u001b[0m\u001b[0m\n",
            "\u001b[0;31mNameError\u001b[0m: name 'train_data' is not defined"
          ]
        }
      ],
      "source": [
        "import tensorflow as tf\n",
        "seed = 2022\n",
        "np.random.seed(seed)\n",
        "tf.random.set_seed(seed)\n",
        "X_train = t.texts_to_sequences(train_data)\n",
        "X_test = t.texts_to_sequences(test_data)"
      ]
    },
    {
      "cell_type": "code",
      "execution_count": 21,
      "metadata": {
        "colab": {
          "base_uri": "https://localhost:8080/",
          "height": 238
        },
        "id": "aI-FZzErmFgz",
        "outputId": "099f074e-1134-4070-af95-7d62a3cf25a0"
      },
      "outputs": [
        {
          "output_type": "error",
          "ename": "NameError",
          "evalue": "ignored",
          "traceback": [
            "\u001b[0;31m---------------------------------------------------------------------------\u001b[0m",
            "\u001b[0;31mNameError\u001b[0m                                 Traceback (most recent call last)",
            "\u001b[0;32m<ipython-input-21-7e4feec6cee0>\u001b[0m in \u001b[0;36m<module>\u001b[0;34m()\u001b[0m\n\u001b[1;32m      2\u001b[0m \u001b[0;34m\u001b[0m\u001b[0m\n\u001b[1;32m      3\u001b[0m \u001b[0mmax_len\u001b[0m \u001b[0;34m=\u001b[0m \u001b[0;36m70\u001b[0m \u001b[0;31m# 그냥 문장은 70이 제일 높음, 스페이스 교정 문장도 마찬가진데?\u001b[0m\u001b[0;34m\u001b[0m\u001b[0;34m\u001b[0m\u001b[0m\n\u001b[0;32m----> 4\u001b[0;31m \u001b[0mX_train\u001b[0m \u001b[0;34m=\u001b[0m \u001b[0mpad_sequences\u001b[0m\u001b[0;34m(\u001b[0m\u001b[0mX_train\u001b[0m\u001b[0;34m,\u001b[0m \u001b[0mmaxlen\u001b[0m\u001b[0;34m=\u001b[0m\u001b[0mmax_len\u001b[0m\u001b[0;34m)\u001b[0m\u001b[0;34m\u001b[0m\u001b[0;34m\u001b[0m\u001b[0m\n\u001b[0m\u001b[1;32m      5\u001b[0m \u001b[0mX_test\u001b[0m \u001b[0;34m=\u001b[0m \u001b[0mpad_sequences\u001b[0m\u001b[0;34m(\u001b[0m\u001b[0mX_test\u001b[0m\u001b[0;34m,\u001b[0m \u001b[0mmaxlen\u001b[0m\u001b[0;34m=\u001b[0m\u001b[0mmax_len\u001b[0m\u001b[0;34m)\u001b[0m\u001b[0;34m\u001b[0m\u001b[0;34m\u001b[0m\u001b[0m\n\u001b[1;32m      6\u001b[0m \u001b[0;34m\u001b[0m\u001b[0m\n",
            "\u001b[0;31mNameError\u001b[0m: name 'X_train' is not defined"
          ]
        }
      ],
      "source": [
        "from tensorflow.keras.preprocessing.sequence import pad_sequences\n",
        "\n",
        "max_len = 70 # 그냥 문장은 70이 제일 높음, 스페이스 교정 문장도 마찬가진데?\n",
        "X_train = pad_sequences(X_train, maxlen=max_len)\n",
        "X_test = pad_sequences(X_test, maxlen=max_len)\n",
        "\n",
        "X_train.shape, X_test.shape"
      ]
    },
    {
      "cell_type": "code",
      "execution_count": 137,
      "metadata": {
        "colab": {
          "base_uri": "https://localhost:8080/"
        },
        "id": "rRLLklDp_veL",
        "outputId": "5ada41ed-b4b8-49bc-83f1-a1ad362900d7"
      },
      "outputs": [
        {
          "output_type": "execute_result",
          "data": {
            "text/plain": [
              "40716"
            ]
          },
          "metadata": {},
          "execution_count": 137
        }
      ],
      "source": [
        "vocab_size = len(t.word_index) + 1\n",
        "vocab_size"
      ]
    },
    {
      "cell_type": "code",
      "execution_count": 138,
      "metadata": {
        "id": "KBiLnWSimG1n"
      },
      "outputs": [],
      "source": [
        "from tensorflow.keras.models import Sequential, load_model, Model\n",
        "from tensorflow.keras.layers import Embedding, LSTM, Dense, Conv1D, GlobalMaxPooling1D, Dropout, Concatenate, MaxPooling1D, GRU\n",
        "from tensorflow.keras.callbacks import ModelCheckpoint, EarlyStopping"
      ]
    },
    {
      "cell_type": "markdown",
      "metadata": {
        "id": "2mBrSMC2nC8W"
      },
      "source": [
        "### Model 1\n",
        "\n",
        "*   Embedding\n",
        "*   Conv1D\n",
        "*   Conv1D\n",
        "\n"
      ]
    },
    {
      "cell_type": "code",
      "execution_count": null,
      "metadata": {
        "colab": {
          "base_uri": "https://localhost:8080/"
        },
        "id": "0MYD9LlhmJl4",
        "outputId": "971729cb-ca91-416b-9e0b-fde1b454dac8"
      },
      "outputs": [
        {
          "name": "stdout",
          "output_type": "stream",
          "text": [
            "Model: \"sequential\"\n",
            "_________________________________________________________________\n",
            " Layer (type)                Output Shape              Param #   \n",
            "=================================================================\n",
            " embedding (Embedding)       (None, 60, 128)           5211648   \n",
            "                                                                 \n",
            " conv1d (Conv1D)             (None, 56, 64)            41024     \n",
            "                                                                 \n",
            " dropout (Dropout)           (None, 56, 64)            0         \n",
            "                                                                 \n",
            " conv1d_1 (Conv1D)           (None, 52, 32)            10272     \n",
            "                                                                 \n",
            " dropout_1 (Dropout)         (None, 52, 32)            0         \n",
            "                                                                 \n",
            " global_max_pooling1d (Globa  (None, 32)               0         \n",
            " lMaxPooling1D)                                                  \n",
            "                                                                 \n",
            " dense (Dense)               (None, 32)                1056      \n",
            "                                                                 \n",
            " dense_1 (Dense)             (None, 11)                363       \n",
            "                                                                 \n",
            "=================================================================\n",
            "Total params: 5,264,363\n",
            "Trainable params: 5,264,363\n",
            "Non-trainable params: 0\n",
            "_________________________________________________________________\n"
          ]
        }
      ],
      "source": [
        "model1 = Sequential([ \n",
        "    Embedding(vocab_size, 128, input_length=max_len),\n",
        "    Conv1D(64, 5, padding='valid', activation='relu', strides=1),\n",
        "    Dropout(0.5),\n",
        "    Conv1D(32, 5, padding='valid', activation='relu', strides=1),\n",
        "    Dropout(0.5),\n",
        "    GlobalMaxPooling1D(),\n",
        "    Dense(32, activation='relu'),\n",
        "    Dense(11, activation='softmax')\n",
        "])\n",
        "model1.summary()"
      ]
    },
    {
      "cell_type": "code",
      "execution_count": null,
      "metadata": {
        "id": "EVmLMjqCmLMl"
      },
      "outputs": [],
      "source": [
        "model1.compile(loss='categorical_crossentropy', optimizer='adam', metrics=['accuracy'])\n",
        "model1_path = 'best-cnn.h5py'\n",
        "mc1 = ModelCheckpoint(model1_path, verbose=1, save_best_only=True)\n",
        "es1 = EarlyStopping(patience=5)"
      ]
    },
    {
      "cell_type": "code",
      "execution_count": null,
      "metadata": {
        "colab": {
          "base_uri": "https://localhost:8080/"
        },
        "id": "o_smWovWmMpT",
        "outputId": "51a59375-84c9-491b-e3e8-2f0c45c13889"
      },
      "outputs": [
        {
          "name": "stdout",
          "output_type": "stream",
          "text": [
            "\n",
            "Epoch 1: val_loss improved from inf to 390.75558, saving model to best-cnn.h5py\n",
            "INFO:tensorflow:Assets written to: best-cnn.h5py/assets\n",
            "\n",
            "Epoch 2: val_loss did not improve from 390.75558\n",
            "\n",
            "Epoch 3: val_loss did not improve from 390.75558\n",
            "\n",
            "Epoch 4: val_loss did not improve from 390.75558\n",
            "\n",
            "Epoch 5: val_loss did not improve from 390.75558\n",
            "\n",
            "Epoch 6: val_loss did not improve from 390.75558\n"
          ]
        }
      ],
      "source": [
        "hist1 = model1.fit(\n",
        "    X_train, y_train, validation_split=0.2,\n",
        "    epochs=30, \n",
        "    batch_size=128,\n",
        "    callbacks=[mc1, es1], \n",
        "    verbose=0\n",
        ")"
      ]
    },
    {
      "cell_type": "code",
      "execution_count": null,
      "metadata": {
        "colab": {
          "base_uri": "https://localhost:8080/"
        },
        "id": "LPhlM9NSmSDj",
        "outputId": "bff62c79-0e93-465f-9e80-722cf5d07d3f"
      },
      "outputs": [
        {
          "name": "stdout",
          "output_type": "stream",
          "text": [
            "297/297 [==============================] - 1s 3ms/step - loss: 393.6883 - accuracy: 0.1145\n"
          ]
        },
        {
          "data": {
            "text/plain": [
              "[393.6882629394531, 0.11453279852867126]"
            ]
          },
          "execution_count": 18,
          "metadata": {},
          "output_type": "execute_result"
        }
      ],
      "source": [
        "best_model1 = load_model(model1_path)\n",
        "best_model1.evaluate(X_test, y_test)"
      ]
    },
    {
      "cell_type": "markdown",
      "metadata": {
        "id": "kp4cXJvHnceF"
      },
      "source": [
        "### Model 2\n",
        "\n",
        "*   Embedding\n",
        "*   Conv1D\n",
        "*   Conv1D\n",
        "*   LSTM\n",
        "\n"
      ]
    },
    {
      "cell_type": "code",
      "execution_count": null,
      "metadata": {
        "id": "-1L7zZpdmWzy"
      },
      "outputs": [],
      "source": [
        "from tensorflow.keras.layers import Bidirectional"
      ]
    },
    {
      "cell_type": "code",
      "execution_count": null,
      "metadata": {
        "colab": {
          "base_uri": "https://localhost:8080/"
        },
        "id": "jiFpZrerme7B",
        "outputId": "174b3fac-bd8c-4591-9275-00662bb2e95a"
      },
      "outputs": [
        {
          "name": "stdout",
          "output_type": "stream",
          "text": [
            "Model: \"sequential_21\"\n",
            "_________________________________________________________________\n",
            " Layer (type)                Output Shape              Param #   \n",
            "=================================================================\n",
            " embedding_23 (Embedding)    (None, 60, 200)           8143200   \n",
            "                                                                 \n",
            " bidirectional_2 (Bidirectio  (None, 60, 400)          641600    \n",
            " nal)                                                            \n",
            "                                                                 \n",
            " dropout_22 (Dropout)        (None, 60, 400)           0         \n",
            "                                                                 \n",
            " global_max_pooling1d_9 (Glo  (None, 400)              0         \n",
            " balMaxPooling1D)                                                \n",
            "                                                                 \n",
            " dense_20 (Dense)            (None, 11)                4411      \n",
            "                                                                 \n",
            "=================================================================\n",
            "Total params: 8,789,211\n",
            "Trainable params: 8,789,211\n",
            "Non-trainable params: 0\n",
            "_________________________________________________________________\n"
          ]
        }
      ],
      "source": [
        "model2 = Sequential([ \n",
        "    Embedding(vocab_size, 200, input_length=max_len),\n",
        "    Bidirectional(LSTM(200, return_sequences=True)),\n",
        "    Dropout(0.5),\n",
        "    GlobalMaxPooling1D(),\n",
        "    Dense(11, activation='softmax')\n",
        "])\n",
        "model2.summary()"
      ]
    },
    {
      "cell_type": "code",
      "execution_count": null,
      "metadata": {
        "id": "ZJQOyEdnmgT3"
      },
      "outputs": [],
      "source": [
        "model2.compile(loss='categorical_crossentropy', optimizer='adam', metrics=['accuracy'])\n",
        "model2_path = 'best-biLSTM.h5'\n",
        "mc2 = ModelCheckpoint(model2_path, verbose=1, save_best_only=True)\n",
        "es2 = EarlyStopping(patience=5)"
      ]
    },
    {
      "cell_type": "code",
      "execution_count": null,
      "metadata": {
        "colab": {
          "base_uri": "https://localhost:8080/"
        },
        "id": "GgGnIbgumh6l",
        "outputId": "a889b1e1-8747-4014-8181-5c9613fe8266"
      },
      "outputs": [
        {
          "name": "stdout",
          "output_type": "stream",
          "text": [
            "Epoch 1/30\n",
            "238/238 [==============================] - ETA: 0s - loss: 2.9744 - accuracy: 0.1185\n",
            "Epoch 1: val_loss improved from inf to 2.92296, saving model to best-biLSTM.h5\n",
            "238/238 [==============================] - 10s 31ms/step - loss: 2.9744 - accuracy: 0.1185 - val_loss: 2.9230 - val_accuracy: 0.1297\n",
            "Epoch 2/30\n",
            "237/238 [============================>.] - ETA: 0s - loss: 2.7365 - accuracy: 0.1710\n",
            "Epoch 2: val_loss improved from 2.92296 to 2.75075, saving model to best-biLSTM.h5\n",
            "238/238 [==============================] - 7s 27ms/step - loss: 2.7364 - accuracy: 0.1710 - val_loss: 2.7507 - val_accuracy: 0.1950\n",
            "Epoch 3/30\n",
            "236/238 [============================>.] - ETA: 0s - loss: 2.4995 - accuracy: 0.2662\n",
            "Epoch 3: val_loss improved from 2.75075 to 2.57449, saving model to best-biLSTM.h5\n",
            "238/238 [==============================] - 7s 28ms/step - loss: 2.4988 - accuracy: 0.2662 - val_loss: 2.5745 - val_accuracy: 0.3127\n",
            "Epoch 4/30\n",
            "238/238 [==============================] - ETA: 0s - loss: 2.3365 - accuracy: 0.3597\n",
            "Epoch 4: val_loss did not improve from 2.57449\n",
            "238/238 [==============================] - 6s 26ms/step - loss: 2.3365 - accuracy: 0.3597 - val_loss: 2.6602 - val_accuracy: 0.3539\n",
            "Epoch 5/30\n",
            "236/238 [============================>.] - ETA: 0s - loss: 2.2545 - accuracy: 0.4039\n",
            "Epoch 5: val_loss did not improve from 2.57449\n",
            "238/238 [==============================] - 7s 28ms/step - loss: 2.2548 - accuracy: 0.4041 - val_loss: 2.6006 - val_accuracy: 0.3324\n",
            "Epoch 6/30\n",
            "236/238 [============================>.] - ETA: 0s - loss: 2.3146 - accuracy: 0.4009\n",
            "Epoch 6: val_loss did not improve from 2.57449\n",
            "238/238 [==============================] - 6s 26ms/step - loss: 2.3162 - accuracy: 0.4007 - val_loss: 3.0867 - val_accuracy: 0.3035\n",
            "Epoch 7/30\n",
            "237/238 [============================>.] - ETA: 0s - loss: 2.1960 - accuracy: 0.4374\n",
            "Epoch 7: val_loss did not improve from 2.57449\n",
            "238/238 [==============================] - 7s 27ms/step - loss: 2.1960 - accuracy: 0.4374 - val_loss: 3.2291 - val_accuracy: 0.3275\n",
            "Epoch 8/30\n",
            "236/238 [============================>.] - ETA: 0s - loss: 2.2413 - accuracy: 0.4393\n",
            "Epoch 8: val_loss did not improve from 2.57449\n",
            "238/238 [==============================] - 6s 27ms/step - loss: 2.2410 - accuracy: 0.4393 - val_loss: 3.1218 - val_accuracy: 0.3388\n"
          ]
        }
      ],
      "source": [
        "hist2 = model2.fit(\n",
        "    X_train, y_train, validation_split=0.2,\n",
        "    epochs=30, batch_size=128, callbacks=[mc2,es2]\n",
        ")"
      ]
    },
    {
      "cell_type": "code",
      "execution_count": null,
      "metadata": {
        "colab": {
          "background_save": true
        },
        "id": "Dx0aQAjHml8y",
        "outputId": "498ae32d-73ad-436e-e857-40cb77a0dda8"
      },
      "outputs": [
        {
          "name": "stdout",
          "output_type": "stream",
          "text": [
            "297/297 [==============================] - 3s 7ms/step - loss: 2.5703 - accuracy: 0.3148\n"
          ]
        },
        {
          "data": {
            "text/plain": [
              "[2.5703063011169434, 0.3148069977760315]"
            ]
          },
          "execution_count": null,
          "metadata": {},
          "output_type": "execute_result"
        }
      ],
      "source": [
        "best_model2 = load_model(model2_path)\n",
        "best_model2.evaluate(X_test, y_test)"
      ]
    },
    {
      "cell_type": "markdown",
      "metadata": {
        "id": "RBAnjyj8nkNx"
      },
      "source": [
        "### Model 3\n",
        "\n",
        "*   Embedding\n",
        "*   LSTM\n",
        "\n"
      ]
    },
    {
      "cell_type": "code",
      "execution_count": null,
      "metadata": {
        "colab": {
          "base_uri": "https://localhost:8080/"
        },
        "id": "mq2A1oTgm7VF",
        "outputId": "688ef64d-6e0b-404b-a88f-be9af74a9b43"
      },
      "outputs": [
        {
          "name": "stdout",
          "output_type": "stream",
          "text": [
            "Model: \"sequential_2\"\n",
            "_________________________________________________________________\n",
            " Layer (type)                Output Shape              Param #   \n",
            "=================================================================\n",
            " embedding_2 (Embedding)     (None, 60, 128)           5211648   \n",
            "                                                                 \n",
            " lstm_1 (LSTM)               (None, 128)               131584    \n",
            "                                                                 \n",
            " dense_3 (Dense)             (None, 11)                1419      \n",
            "                                                                 \n",
            "=================================================================\n",
            "Total params: 5,344,651\n",
            "Trainable params: 5,344,651\n",
            "Non-trainable params: 0\n",
            "_________________________________________________________________\n"
          ]
        }
      ],
      "source": [
        "model3 = Sequential([ \n",
        "    Embedding(vocab_size, 128, input_length=max_len),\n",
        "    LSTM(128),\n",
        "    Dense(11, activation='softmax')\n",
        "])\n",
        "model3.summary()"
      ]
    },
    {
      "cell_type": "code",
      "execution_count": null,
      "metadata": {
        "id": "r9R6IMkanjQ0"
      },
      "outputs": [],
      "source": [
        "model3.compile('adam', 'categorical_crossentropy', ['accuracy'])\n",
        "model3_path = 'best-lstm.h5'\n",
        "mc3 = ModelCheckpoint(model3_path, verbose=1, save_best_only=True)\n",
        "es3 = EarlyStopping(patience=5)"
      ]
    },
    {
      "cell_type": "code",
      "execution_count": null,
      "metadata": {
        "colab": {
          "base_uri": "https://localhost:8080/"
        },
        "id": "bXeZCe9yn65A",
        "outputId": "605cc79b-f602-41f6-9a7f-78a5dd1b4d15"
      },
      "outputs": [
        {
          "name": "stdout",
          "output_type": "stream",
          "text": [
            "Epoch 1/100\n",
            "470/475 [============================>.] - ETA: 0s - loss: 2.9667 - accuracy: 0.1167\n",
            "Epoch 1: val_loss improved from inf to 2.97062, saving model to best-lstm.h5\n",
            "475/475 [==============================] - 6s 12ms/step - loss: 2.9682 - accuracy: 0.1164 - val_loss: 2.9706 - val_accuracy: 0.1175\n",
            "Epoch 2/100\n",
            "473/475 [============================>.] - ETA: 0s - loss: 2.9684 - accuracy: 0.1164\n",
            "Epoch 2: val_loss did not improve from 2.97062\n",
            "475/475 [==============================] - 5s 11ms/step - loss: 2.9685 - accuracy: 0.1164 - val_loss: 2.9743 - val_accuracy: 0.1175\n",
            "Epoch 3/100\n",
            "475/475 [==============================] - ETA: 0s - loss: 2.9675 - accuracy: 0.1158\n",
            "Epoch 3: val_loss did not improve from 2.97062\n",
            "475/475 [==============================] - 9s 18ms/step - loss: 2.9675 - accuracy: 0.1158 - val_loss: 2.9822 - val_accuracy: 0.1175\n",
            "Epoch 4/100\n",
            "473/475 [============================>.] - ETA: 0s - loss: 2.9689 - accuracy: 0.1164\n",
            "Epoch 4: val_loss improved from 2.97062 to 2.96878, saving model to best-lstm.h5\n",
            "475/475 [==============================] - 7s 15ms/step - loss: 2.9682 - accuracy: 0.1164 - val_loss: 2.9688 - val_accuracy: 0.1175\n",
            "Epoch 5/100\n",
            "472/475 [============================>.] - ETA: 0s - loss: 2.9670 - accuracy: 0.1157\n",
            "Epoch 5: val_loss did not improve from 2.96878\n",
            "475/475 [==============================] - 5s 11ms/step - loss: 2.9676 - accuracy: 0.1154 - val_loss: 2.9796 - val_accuracy: 0.0737\n",
            "Epoch 6/100\n",
            "475/475 [==============================] - ETA: 0s - loss: 2.9672 - accuracy: 0.1163\n",
            "Epoch 6: val_loss did not improve from 2.96878\n",
            "475/475 [==============================] - 5s 11ms/step - loss: 2.9672 - accuracy: 0.1163 - val_loss: 2.9730 - val_accuracy: 0.1175\n",
            "Epoch 7/100\n",
            "472/475 [============================>.] - ETA: 0s - loss: 2.9681 - accuracy: 0.1165\n",
            "Epoch 7: val_loss did not improve from 2.96878\n",
            "475/475 [==============================] - 5s 11ms/step - loss: 2.9682 - accuracy: 0.1164 - val_loss: 2.9815 - val_accuracy: 0.1175\n",
            "Epoch 8/100\n",
            "475/475 [==============================] - ETA: 0s - loss: 2.9672 - accuracy: 0.1164\n",
            "Epoch 8: val_loss did not improve from 2.96878\n",
            "475/475 [==============================] - 6s 12ms/step - loss: 2.9672 - accuracy: 0.1164 - val_loss: 2.9856 - val_accuracy: 0.1175\n",
            "Epoch 9/100\n",
            "471/475 [============================>.] - ETA: 0s - loss: 2.9697 - accuracy: 0.1158\n",
            "Epoch 9: val_loss did not improve from 2.96878\n",
            "475/475 [==============================] - 6s 12ms/step - loss: 2.9688 - accuracy: 0.1160 - val_loss: 2.9766 - val_accuracy: 0.1175\n"
          ]
        }
      ],
      "source": [
        "hist3 = model3.fit(\n",
        "    X_train, y_train, validation_split=0.2,\n",
        "    epochs=100, batch_size=64, callbacks=[mc3, es3]\n",
        ")"
      ]
    },
    {
      "cell_type": "code",
      "execution_count": null,
      "metadata": {
        "colab": {
          "base_uri": "https://localhost:8080/"
        },
        "id": "hWnUjq2NoC9g",
        "outputId": "b0a946d3-d9f2-4559-9b3c-b057519ebe5c"
      },
      "outputs": [
        {
          "name": "stdout",
          "output_type": "stream",
          "text": [
            "297/297 [==============================] - 2s 5ms/step - loss: 2.9528 - accuracy: 0.1145\n"
          ]
        },
        {
          "data": {
            "text/plain": [
              "[2.952800750732422, 0.11453279852867126]"
            ]
          },
          "execution_count": 29,
          "metadata": {},
          "output_type": "execute_result"
        }
      ],
      "source": [
        "best_model3 = load_model(model3_path)\n",
        "best_model3.evaluate(X_test, y_test)"
      ]
    },
    {
      "cell_type": "markdown",
      "metadata": {
        "id": "v47vZy0FoPrs"
      },
      "source": [
        "### Model 4\n",
        "\n",
        "*   Embedding\n",
        "*   Conv1D\n",
        "*   LSTM\n",
        "\n",
        "*이게 제가 보낸 모델입니다*"
      ]
    },
    {
      "cell_type": "code",
      "execution_count": 139,
      "metadata": {
        "colab": {
          "base_uri": "https://localhost:8080/"
        },
        "id": "cI67rNKyoOsy",
        "outputId": "1730138f-0e12-4e16-cf35-ca47e78d81d5"
      },
      "outputs": [
        {
          "output_type": "stream",
          "name": "stdout",
          "text": [
            "Model: \"sequential_14\"\n",
            "_________________________________________________________________\n",
            " Layer (type)                Output Shape              Param #   \n",
            "=================================================================\n",
            " embedding_14 (Embedding)    (None, 70, 128)           5211648   \n",
            "                                                                 \n",
            " dropout_14 (Dropout)        (None, 70, 128)           0         \n",
            "                                                                 \n",
            " conv1d_14 (Conv1D)          (None, 68, 256)           98560     \n",
            "                                                                 \n",
            " max_pooling1d_14 (MaxPoolin  (None, 17, 256)          0         \n",
            " g1D)                                                            \n",
            "                                                                 \n",
            " lstm_14 (LSTM)              (None, 128)               197120    \n",
            "                                                                 \n",
            " dense_14 (Dense)            (None, 11)                1419      \n",
            "                                                                 \n",
            "=================================================================\n",
            "Total params: 5,508,747\n",
            "Trainable params: 5,508,747\n",
            "Non-trainable params: 0\n",
            "_________________________________________________________________\n"
          ]
        }
      ],
      "source": [
        "model4 = Sequential([\n",
        "    Embedding(vocab_size, 128, input_length=max_len),\n",
        "    Dropout(0.2),\n",
        "    Conv1D(256, 3, padding='valid', activation='relu', strides=1),\n",
        "    MaxPooling1D(pool_size=4),\n",
        "    LSTM(128),\n",
        "    Dense(11, activation='softmax')\n",
        "])\n",
        "model4.summary()"
      ]
    },
    {
      "cell_type": "code",
      "execution_count": 140,
      "metadata": {
        "id": "Eo4i04smoaOj"
      },
      "outputs": [],
      "source": [
        "model4.compile('adam', 'categorical_crossentropy', ['accuracy'])\n",
        "model4_path = 'best-conv1d_lstm.h5'\n",
        "mc4 = ModelCheckpoint(model4_path, verbose=1, save_best_only=True)\n",
        "es4 = EarlyStopping(patience=3)"
      ]
    },
    {
      "cell_type": "code",
      "execution_count": 141,
      "metadata": {
        "colab": {
          "base_uri": "https://localhost:8080/"
        },
        "id": "RShBYEhmDEiD",
        "outputId": "f5b586b7-bcab-496c-ea5d-5bc88bccd677"
      },
      "outputs": [
        {
          "output_type": "stream",
          "name": "stdout",
          "text": [
            "Epoch 1/100\n",
            "472/475 [============================>.] - ETA: 0s - loss: 2.4141 - accuracy: 0.3172\n",
            "Epoch 1: val_loss improved from inf to 1.82362, saving model to best-conv1d_lstm.h5\n",
            "475/475 [==============================] - 7s 11ms/step - loss: 2.4104 - accuracy: 0.3191 - val_loss: 1.8236 - val_accuracy: 0.6144\n",
            "Epoch 2/100\n",
            "470/475 [============================>.] - ETA: 0s - loss: 1.6233 - accuracy: 0.6737\n",
            "Epoch 2: val_loss improved from 1.82362 to 1.74690, saving model to best-conv1d_lstm.h5\n",
            "475/475 [==============================] - 5s 11ms/step - loss: 1.6240 - accuracy: 0.6736 - val_loss: 1.7469 - val_accuracy: 0.6519\n",
            "Epoch 3/100\n",
            "474/475 [============================>.] - ETA: 0s - loss: 1.4881 - accuracy: 0.7283\n",
            "Epoch 3: val_loss did not improve from 1.74690\n",
            "475/475 [==============================] - 5s 11ms/step - loss: 1.4888 - accuracy: 0.7283 - val_loss: 1.8549 - val_accuracy: 0.6705\n",
            "Epoch 4/100\n",
            "475/475 [==============================] - ETA: 0s - loss: 1.4927 - accuracy: 0.7500\n",
            "Epoch 4: val_loss did not improve from 1.74690\n",
            "475/475 [==============================] - 5s 10ms/step - loss: 1.4927 - accuracy: 0.7500 - val_loss: 2.3677 - val_accuracy: 0.6508\n",
            "Epoch 5/100\n",
            "472/475 [============================>.] - ETA: 0s - loss: 1.5003 - accuracy: 0.7602\n",
            "Epoch 5: val_loss did not improve from 1.74690\n",
            "475/475 [==============================] - 5s 10ms/step - loss: 1.5019 - accuracy: 0.7603 - val_loss: 2.6006 - val_accuracy: 0.6331\n"
          ]
        }
      ],
      "source": [
        "hist4 = model4.fit(\n",
        "    X_train, y_train, validation_split=0.2,\n",
        "    epochs=100, batch_size=64, callbacks=[mc4, es4]\n",
        ")"
      ]
    },
    {
      "cell_type": "code",
      "execution_count": 142,
      "metadata": {
        "colab": {
          "base_uri": "https://localhost:8080/"
        },
        "id": "eufxiBJPom-B",
        "outputId": "7c70b527-a178-48e4-a6ef-9ac33c87ba5d"
      },
      "outputs": [
        {
          "output_type": "stream",
          "name": "stdout",
          "text": [
            "297/297 [==============================] - 2s 4ms/step - loss: 1.6748 - accuracy: 0.6606\n"
          ]
        },
        {
          "output_type": "execute_result",
          "data": {
            "text/plain": [
              "[1.67482590675354, 0.6605862379074097]"
            ]
          },
          "metadata": {},
          "execution_count": 142
        }
      ],
      "source": [
        "best_model4 = load_model(model4_path)\n",
        "best_model4.evaluate(X_test, y_test)"
      ]
    },
    {
      "cell_type": "markdown",
      "metadata": {
        "id": "t8-wUdoXsSuP"
      },
      "source": [
        "### Model 5\n",
        "\n",
        "*   Embedding\n",
        "*   GRU"
      ]
    },
    {
      "cell_type": "code",
      "execution_count": null,
      "metadata": {
        "colab": {
          "base_uri": "https://localhost:8080/"
        },
        "id": "b37gzT8ysSHZ",
        "outputId": "8d05b86b-4faa-4464-b734-d91af24967f3"
      },
      "outputs": [
        {
          "name": "stdout",
          "output_type": "stream",
          "text": [
            "Model: \"sequential_4\"\n",
            "_________________________________________________________________\n",
            " Layer (type)                Output Shape              Param #   \n",
            "=================================================================\n",
            " embedding_5 (Embedding)     (None, 60, 128)           5211648   \n",
            "                                                                 \n",
            " gru (GRU)                   (None, 128)               99072     \n",
            "                                                                 \n",
            " dense_5 (Dense)             (None, 11)                1419      \n",
            "                                                                 \n",
            "=================================================================\n",
            "Total params: 5,312,139\n",
            "Trainable params: 5,312,139\n",
            "Non-trainable params: 0\n",
            "_________________________________________________________________\n"
          ]
        }
      ],
      "source": [
        "model5 = Sequential([ \n",
        "    Embedding(vocab_size, 128, input_length=max_len),\n",
        "    GRU(128),\n",
        "    Dense(11, activation='softmax')\n",
        "])\n",
        "model5.summary()"
      ]
    },
    {
      "cell_type": "code",
      "execution_count": null,
      "metadata": {
        "id": "hUdNMKuSsaRo"
      },
      "outputs": [],
      "source": [
        "model5.compile('adam', 'categorical_crossentropy', ['accuracy'])\n",
        "model5_path = 'best-gru.h5'\n",
        "mc5 = ModelCheckpoint(model5_path, verbose=1, save_best_only=True)\n",
        "es5 = EarlyStopping(patience=5)"
      ]
    },
    {
      "cell_type": "code",
      "execution_count": null,
      "metadata": {
        "colab": {
          "base_uri": "https://localhost:8080/"
        },
        "id": "yLs2jEv6sdkZ",
        "outputId": "a3c69bb1-fbdc-44ff-f082-d014b2a6acce"
      },
      "outputs": [
        {
          "name": "stdout",
          "output_type": "stream",
          "text": [
            "Epoch 1/100\n",
            "474/475 [============================>.] - ETA: 0s - loss: 2.9829 - accuracy: 0.1165\n",
            "Epoch 1: val_loss improved from inf to 2.97242, saving model to best-gru.h5\n",
            "475/475 [==============================] - 11s 18ms/step - loss: 2.9828 - accuracy: 0.1165 - val_loss: 2.9724 - val_accuracy: 0.1175\n",
            "Epoch 2/100\n",
            "470/475 [============================>.] - ETA: 0s - loss: 2.9691 - accuracy: 0.1164\n",
            "Epoch 2: val_loss did not improve from 2.97242\n",
            "475/475 [==============================] - 5s 11ms/step - loss: 2.9693 - accuracy: 0.1164 - val_loss: 2.9749 - val_accuracy: 0.1175\n",
            "Epoch 3/100\n",
            "473/475 [============================>.] - ETA: 0s - loss: 2.9677 - accuracy: 0.1158\n",
            "Epoch 3: val_loss did not improve from 2.97242\n",
            "475/475 [==============================] - 6s 12ms/step - loss: 2.9678 - accuracy: 0.1158 - val_loss: 2.9823 - val_accuracy: 0.1175\n",
            "Epoch 4/100\n",
            "471/475 [============================>.] - ETA: 0s - loss: 2.9692 - accuracy: 0.1164\n",
            "Epoch 4: val_loss improved from 2.97242 to 2.96879, saving model to best-gru.h5\n",
            "475/475 [==============================] - 6s 13ms/step - loss: 2.9683 - accuracy: 0.1164 - val_loss: 2.9688 - val_accuracy: 0.1175\n",
            "Epoch 5/100\n",
            "472/475 [============================>.] - ETA: 0s - loss: 2.9670 - accuracy: 0.1156\n",
            "Epoch 5: val_loss did not improve from 2.96879\n",
            "475/475 [==============================] - 5s 11ms/step - loss: 2.9676 - accuracy: 0.1154 - val_loss: 2.9797 - val_accuracy: 0.0737\n",
            "Epoch 6/100\n",
            "473/475 [============================>.] - ETA: 0s - loss: 2.9668 - accuracy: 0.1164\n",
            "Epoch 6: val_loss did not improve from 2.96879\n",
            "475/475 [==============================] - 6s 13ms/step - loss: 2.9672 - accuracy: 0.1163 - val_loss: 2.9731 - val_accuracy: 0.1175\n",
            "Epoch 7/100\n",
            "475/475 [==============================] - ETA: 0s - loss: 2.9682 - accuracy: 0.1164\n",
            "Epoch 7: val_loss did not improve from 2.96879\n",
            "475/475 [==============================] - 5s 11ms/step - loss: 2.9682 - accuracy: 0.1164 - val_loss: 2.9815 - val_accuracy: 0.1175\n",
            "Epoch 8/100\n",
            "475/475 [==============================] - ETA: 0s - loss: 2.9673 - accuracy: 0.1164\n",
            "Epoch 8: val_loss did not improve from 2.96879\n",
            "475/475 [==============================] - 8s 16ms/step - loss: 2.9673 - accuracy: 0.1164 - val_loss: 2.9856 - val_accuracy: 0.1175\n",
            "Epoch 9/100\n",
            "474/475 [============================>.] - ETA: 0s - loss: 2.9687 - accuracy: 0.1159\n",
            "Epoch 9: val_loss did not improve from 2.96879\n",
            "475/475 [==============================] - 8s 16ms/step - loss: 2.9688 - accuracy: 0.1160 - val_loss: 2.9766 - val_accuracy: 0.1175\n"
          ]
        }
      ],
      "source": [
        "hist5 = model5.fit(\n",
        "    X_train, y_train, validation_split=0.2,\n",
        "    epochs=100, batch_size=64, callbacks=[mc5, es5]\n",
        ")"
      ]
    },
    {
      "cell_type": "code",
      "execution_count": null,
      "metadata": {
        "colab": {
          "base_uri": "https://localhost:8080/"
        },
        "id": "GDq5EfbDsfQf",
        "outputId": "3dbf7d79-6723-4914-a395-965ff526dfea"
      },
      "outputs": [
        {
          "name": "stdout",
          "output_type": "stream",
          "text": [
            "297/297 [==============================] - 2s 4ms/step - loss: 2.9528 - accuracy: 0.1145\n"
          ]
        },
        {
          "data": {
            "text/plain": [
              "[2.952824354171753, 0.11453279852867126]"
            ]
          },
          "execution_count": 40,
          "metadata": {},
          "output_type": "execute_result"
        }
      ],
      "source": [
        "best_model5 = load_model(model5_path)\n",
        "best_model5.evaluate(X_test, y_test)"
      ]
    },
    {
      "cell_type": "markdown",
      "metadata": {
        "id": "N8eu9gVOshCb"
      },
      "source": [
        "### Model 6\n",
        "\n",
        "*   Embedding\n",
        "*   Conv1D\n",
        "*   GRU"
      ]
    },
    {
      "cell_type": "code",
      "execution_count": null,
      "metadata": {
        "colab": {
          "base_uri": "https://localhost:8080/"
        },
        "id": "NtjyqlTDsj8z",
        "outputId": "aef4fcde-17ba-471e-d501-605f5ecfdfc6"
      },
      "outputs": [
        {
          "name": "stdout",
          "output_type": "stream",
          "text": [
            "Model: \"sequential_5\"\n",
            "_________________________________________________________________\n",
            " Layer (type)                Output Shape              Param #   \n",
            "=================================================================\n",
            " embedding_6 (Embedding)     (None, 60, 128)           5211648   \n",
            "                                                                 \n",
            " dropout_5 (Dropout)         (None, 60, 128)           0         \n",
            "                                                                 \n",
            " conv1d_4 (Conv1D)           (None, 58, 256)           98560     \n",
            "                                                                 \n",
            " max_pooling1d_1 (MaxPooling  (None, 14, 256)          0         \n",
            " 1D)                                                             \n",
            "                                                                 \n",
            " gru_1 (GRU)                 (None, 128)               148224    \n",
            "                                                                 \n",
            " dense_6 (Dense)             (None, 11)                1419      \n",
            "                                                                 \n",
            "=================================================================\n",
            "Total params: 5,459,851\n",
            "Trainable params: 5,459,851\n",
            "Non-trainable params: 0\n",
            "_________________________________________________________________\n"
          ]
        }
      ],
      "source": [
        "model6 = Sequential([ \n",
        "    Embedding(vocab_size, 128, input_length=max_len),\n",
        "    Dropout(0.2),\n",
        "    Conv1D(256, 3, padding='valid', activation='relu', strides=1),\n",
        "    MaxPooling1D(pool_size=4),\n",
        "    GRU(128),\n",
        "    Dense(11, activation='softmax')\n",
        "])\n",
        "model6.summary()"
      ]
    },
    {
      "cell_type": "code",
      "execution_count": null,
      "metadata": {
        "id": "ApOmBq6jslfL"
      },
      "outputs": [],
      "source": [
        "model6.compile('adam', 'categorical_crossentropy', ['accuracy'])\n",
        "model6_path = 'best-conv1d_gru.h5'\n",
        "mc6 = ModelCheckpoint(model6_path, verbose=1, save_best_only=True)\n",
        "es6 = EarlyStopping(patience=5)"
      ]
    },
    {
      "cell_type": "code",
      "execution_count": null,
      "metadata": {
        "colab": {
          "base_uri": "https://localhost:8080/"
        },
        "id": "vcUcd6JpspFx",
        "outputId": "a4df801f-9e94-4d13-fe4f-408526100ab8"
      },
      "outputs": [
        {
          "name": "stdout",
          "output_type": "stream",
          "text": [
            "Epoch 1/100\n",
            "471/475 [============================>.] - ETA: 0s - loss: 2.3482 - accuracy: 0.3759\n",
            "Epoch 1: val_loss improved from inf to 1.86814, saving model to best-conv1d_gru.h5\n",
            "475/475 [==============================] - 7s 11ms/step - loss: 2.3461 - accuracy: 0.3773 - val_loss: 1.8681 - val_accuracy: 0.6030\n",
            "Epoch 2/100\n",
            "472/475 [============================>.] - ETA: 0s - loss: 1.7007 - accuracy: 0.6677\n",
            "Epoch 2: val_loss did not improve from 1.86814\n",
            "475/475 [==============================] - 5s 10ms/step - loss: 1.7012 - accuracy: 0.6678 - val_loss: 1.8712 - val_accuracy: 0.6411\n",
            "Epoch 3/100\n",
            "471/475 [============================>.] - ETA: 0s - loss: 1.6382 - accuracy: 0.7172\n",
            "Epoch 3: val_loss did not improve from 1.86814\n",
            "475/475 [==============================] - 4s 9ms/step - loss: 1.6381 - accuracy: 0.7170 - val_loss: 2.1357 - val_accuracy: 0.6450\n",
            "Epoch 4/100\n",
            "473/475 [============================>.] - ETA: 0s - loss: 1.6493 - accuracy: 0.7417\n",
            "Epoch 4: val_loss did not improve from 1.86814\n",
            "475/475 [==============================] - 5s 10ms/step - loss: 1.6477 - accuracy: 0.7418 - val_loss: 2.5686 - val_accuracy: 0.6203\n",
            "Epoch 5/100\n",
            "474/475 [============================>.] - ETA: 0s - loss: 1.6637 - accuracy: 0.7604\n",
            "Epoch 5: val_loss did not improve from 1.86814\n",
            "475/475 [==============================] - 5s 10ms/step - loss: 1.6638 - accuracy: 0.7604 - val_loss: 3.3375 - val_accuracy: 0.6264\n",
            "Epoch 6/100\n",
            "473/475 [============================>.] - ETA: 0s - loss: 1.7164 - accuracy: 0.7716\n",
            "Epoch 6: val_loss did not improve from 1.86814\n",
            "475/475 [==============================] - 5s 10ms/step - loss: 1.7205 - accuracy: 0.7715 - val_loss: 4.2738 - val_accuracy: 0.6100\n"
          ]
        }
      ],
      "source": [
        "hist6 = model6.fit(\n",
        "    X_train, y_train, validation_split=0.2,\n",
        "    epochs=100, batch_size=64, callbacks=[mc6, es6]\n",
        ")"
      ]
    },
    {
      "cell_type": "code",
      "execution_count": null,
      "metadata": {
        "colab": {
          "base_uri": "https://localhost:8080/"
        },
        "id": "HANw4nd-srBa",
        "outputId": "4f1a7d62-08c8-466a-eb73-95c777e64f95"
      },
      "outputs": [
        {
          "name": "stdout",
          "output_type": "stream",
          "text": [
            "297/297 [==============================] - 1s 4ms/step - loss: 1.8488 - accuracy: 0.6069\n"
          ]
        },
        {
          "data": {
            "text/plain": [
              "[1.848807454109192, 0.606939435005188]"
            ]
          },
          "execution_count": 44,
          "metadata": {},
          "output_type": "execute_result"
        }
      ],
      "source": [
        "best_model6 = load_model(model6_path)\n",
        "best_model6.evaluate(X_test, y_test)"
      ]
    }
  ],
  "metadata": {
    "accelerator": "GPU",
    "colab": {
      "collapsed_sections": [
        "2mBrSMC2nC8W",
        "kp4cXJvHnceF",
        "RBAnjyj8nkNx",
        "v47vZy0FoPrs",
        "t8-wUdoXsSuP",
        "N8eu9gVOshCb"
      ],
      "name": "modeling.ipynb",
      "provenance": []
    },
    "kernelspec": {
      "display_name": "Python 3",
      "name": "python3"
    },
    "language_info": {
      "name": "python"
    },
    "widgets": {
      "application/vnd.jupyter.widget-state+json": {
        "0e9691847d834e6b8fd30301bad5c730": {
          "model_module": "@jupyter-widgets/controls",
          "model_name": "HBoxModel",
          "model_module_version": "1.5.0",
          "state": {
            "_dom_classes": [],
            "_model_module": "@jupyter-widgets/controls",
            "_model_module_version": "1.5.0",
            "_model_name": "HBoxModel",
            "_view_count": null,
            "_view_module": "@jupyter-widgets/controls",
            "_view_module_version": "1.5.0",
            "_view_name": "HBoxView",
            "box_style": "",
            "children": [
              "IPY_MODEL_29da6f03d67d4df2a5a05b7a6b700c9d",
              "IPY_MODEL_47fe81dafe0b4b21be063168643b3f3c",
              "IPY_MODEL_af42d1241d184146a5111b0f0be0db00"
            ],
            "layout": "IPY_MODEL_7f510115f5414c95a561dd7d60c83a43"
          }
        },
        "29da6f03d67d4df2a5a05b7a6b700c9d": {
          "model_module": "@jupyter-widgets/controls",
          "model_name": "HTMLModel",
          "model_module_version": "1.5.0",
          "state": {
            "_dom_classes": [],
            "_model_module": "@jupyter-widgets/controls",
            "_model_module_version": "1.5.0",
            "_model_name": "HTMLModel",
            "_view_count": null,
            "_view_module": "@jupyter-widgets/controls",
            "_view_module_version": "1.5.0",
            "_view_name": "HTMLView",
            "description": "",
            "description_tooltip": null,
            "layout": "IPY_MODEL_c4b7f5ad67f34881b8b4ba8b4dd2c680",
            "placeholder": "​",
            "style": "IPY_MODEL_1923477b3c7d46a8a9a333cbf5133836",
            "value": "100%"
          }
        },
        "47fe81dafe0b4b21be063168643b3f3c": {
          "model_module": "@jupyter-widgets/controls",
          "model_name": "FloatProgressModel",
          "model_module_version": "1.5.0",
          "state": {
            "_dom_classes": [],
            "_model_module": "@jupyter-widgets/controls",
            "_model_module_version": "1.5.0",
            "_model_name": "FloatProgressModel",
            "_view_count": null,
            "_view_module": "@jupyter-widgets/controls",
            "_view_module_version": "1.5.0",
            "_view_name": "ProgressView",
            "bar_style": "success",
            "description": "",
            "description_tooltip": null,
            "layout": "IPY_MODEL_e332677afea34bbc919ef27d17a2a6a8",
            "max": 37925,
            "min": 0,
            "orientation": "horizontal",
            "style": "IPY_MODEL_fb990ce4cf804f0e8b41a407e66a990a",
            "value": 37925
          }
        },
        "af42d1241d184146a5111b0f0be0db00": {
          "model_module": "@jupyter-widgets/controls",
          "model_name": "HTMLModel",
          "model_module_version": "1.5.0",
          "state": {
            "_dom_classes": [],
            "_model_module": "@jupyter-widgets/controls",
            "_model_module_version": "1.5.0",
            "_model_name": "HTMLModel",
            "_view_count": null,
            "_view_module": "@jupyter-widgets/controls",
            "_view_module_version": "1.5.0",
            "_view_name": "HTMLView",
            "description": "",
            "description_tooltip": null,
            "layout": "IPY_MODEL_e65b8e65ff7842ceb71505f5624741b8",
            "placeholder": "​",
            "style": "IPY_MODEL_45957e97fb9143ee9177a0a6601ebd75",
            "value": " 37925/37925 [00:19&lt;00:00, 2094.92it/s]"
          }
        },
        "7f510115f5414c95a561dd7d60c83a43": {
          "model_module": "@jupyter-widgets/base",
          "model_name": "LayoutModel",
          "model_module_version": "1.2.0",
          "state": {
            "_model_module": "@jupyter-widgets/base",
            "_model_module_version": "1.2.0",
            "_model_name": "LayoutModel",
            "_view_count": null,
            "_view_module": "@jupyter-widgets/base",
            "_view_module_version": "1.2.0",
            "_view_name": "LayoutView",
            "align_content": null,
            "align_items": null,
            "align_self": null,
            "border": null,
            "bottom": null,
            "display": null,
            "flex": null,
            "flex_flow": null,
            "grid_area": null,
            "grid_auto_columns": null,
            "grid_auto_flow": null,
            "grid_auto_rows": null,
            "grid_column": null,
            "grid_gap": null,
            "grid_row": null,
            "grid_template_areas": null,
            "grid_template_columns": null,
            "grid_template_rows": null,
            "height": null,
            "justify_content": null,
            "justify_items": null,
            "left": null,
            "margin": null,
            "max_height": null,
            "max_width": null,
            "min_height": null,
            "min_width": null,
            "object_fit": null,
            "object_position": null,
            "order": null,
            "overflow": null,
            "overflow_x": null,
            "overflow_y": null,
            "padding": null,
            "right": null,
            "top": null,
            "visibility": null,
            "width": null
          }
        },
        "c4b7f5ad67f34881b8b4ba8b4dd2c680": {
          "model_module": "@jupyter-widgets/base",
          "model_name": "LayoutModel",
          "model_module_version": "1.2.0",
          "state": {
            "_model_module": "@jupyter-widgets/base",
            "_model_module_version": "1.2.0",
            "_model_name": "LayoutModel",
            "_view_count": null,
            "_view_module": "@jupyter-widgets/base",
            "_view_module_version": "1.2.0",
            "_view_name": "LayoutView",
            "align_content": null,
            "align_items": null,
            "align_self": null,
            "border": null,
            "bottom": null,
            "display": null,
            "flex": null,
            "flex_flow": null,
            "grid_area": null,
            "grid_auto_columns": null,
            "grid_auto_flow": null,
            "grid_auto_rows": null,
            "grid_column": null,
            "grid_gap": null,
            "grid_row": null,
            "grid_template_areas": null,
            "grid_template_columns": null,
            "grid_template_rows": null,
            "height": null,
            "justify_content": null,
            "justify_items": null,
            "left": null,
            "margin": null,
            "max_height": null,
            "max_width": null,
            "min_height": null,
            "min_width": null,
            "object_fit": null,
            "object_position": null,
            "order": null,
            "overflow": null,
            "overflow_x": null,
            "overflow_y": null,
            "padding": null,
            "right": null,
            "top": null,
            "visibility": null,
            "width": null
          }
        },
        "1923477b3c7d46a8a9a333cbf5133836": {
          "model_module": "@jupyter-widgets/controls",
          "model_name": "DescriptionStyleModel",
          "model_module_version": "1.5.0",
          "state": {
            "_model_module": "@jupyter-widgets/controls",
            "_model_module_version": "1.5.0",
            "_model_name": "DescriptionStyleModel",
            "_view_count": null,
            "_view_module": "@jupyter-widgets/base",
            "_view_module_version": "1.2.0",
            "_view_name": "StyleView",
            "description_width": ""
          }
        },
        "e332677afea34bbc919ef27d17a2a6a8": {
          "model_module": "@jupyter-widgets/base",
          "model_name": "LayoutModel",
          "model_module_version": "1.2.0",
          "state": {
            "_model_module": "@jupyter-widgets/base",
            "_model_module_version": "1.2.0",
            "_model_name": "LayoutModel",
            "_view_count": null,
            "_view_module": "@jupyter-widgets/base",
            "_view_module_version": "1.2.0",
            "_view_name": "LayoutView",
            "align_content": null,
            "align_items": null,
            "align_self": null,
            "border": null,
            "bottom": null,
            "display": null,
            "flex": null,
            "flex_flow": null,
            "grid_area": null,
            "grid_auto_columns": null,
            "grid_auto_flow": null,
            "grid_auto_rows": null,
            "grid_column": null,
            "grid_gap": null,
            "grid_row": null,
            "grid_template_areas": null,
            "grid_template_columns": null,
            "grid_template_rows": null,
            "height": null,
            "justify_content": null,
            "justify_items": null,
            "left": null,
            "margin": null,
            "max_height": null,
            "max_width": null,
            "min_height": null,
            "min_width": null,
            "object_fit": null,
            "object_position": null,
            "order": null,
            "overflow": null,
            "overflow_x": null,
            "overflow_y": null,
            "padding": null,
            "right": null,
            "top": null,
            "visibility": null,
            "width": null
          }
        },
        "fb990ce4cf804f0e8b41a407e66a990a": {
          "model_module": "@jupyter-widgets/controls",
          "model_name": "ProgressStyleModel",
          "model_module_version": "1.5.0",
          "state": {
            "_model_module": "@jupyter-widgets/controls",
            "_model_module_version": "1.5.0",
            "_model_name": "ProgressStyleModel",
            "_view_count": null,
            "_view_module": "@jupyter-widgets/base",
            "_view_module_version": "1.2.0",
            "_view_name": "StyleView",
            "bar_color": null,
            "description_width": ""
          }
        },
        "e65b8e65ff7842ceb71505f5624741b8": {
          "model_module": "@jupyter-widgets/base",
          "model_name": "LayoutModel",
          "model_module_version": "1.2.0",
          "state": {
            "_model_module": "@jupyter-widgets/base",
            "_model_module_version": "1.2.0",
            "_model_name": "LayoutModel",
            "_view_count": null,
            "_view_module": "@jupyter-widgets/base",
            "_view_module_version": "1.2.0",
            "_view_name": "LayoutView",
            "align_content": null,
            "align_items": null,
            "align_self": null,
            "border": null,
            "bottom": null,
            "display": null,
            "flex": null,
            "flex_flow": null,
            "grid_area": null,
            "grid_auto_columns": null,
            "grid_auto_flow": null,
            "grid_auto_rows": null,
            "grid_column": null,
            "grid_gap": null,
            "grid_row": null,
            "grid_template_areas": null,
            "grid_template_columns": null,
            "grid_template_rows": null,
            "height": null,
            "justify_content": null,
            "justify_items": null,
            "left": null,
            "margin": null,
            "max_height": null,
            "max_width": null,
            "min_height": null,
            "min_width": null,
            "object_fit": null,
            "object_position": null,
            "order": null,
            "overflow": null,
            "overflow_x": null,
            "overflow_y": null,
            "padding": null,
            "right": null,
            "top": null,
            "visibility": null,
            "width": null
          }
        },
        "45957e97fb9143ee9177a0a6601ebd75": {
          "model_module": "@jupyter-widgets/controls",
          "model_name": "DescriptionStyleModel",
          "model_module_version": "1.5.0",
          "state": {
            "_model_module": "@jupyter-widgets/controls",
            "_model_module_version": "1.5.0",
            "_model_name": "DescriptionStyleModel",
            "_view_count": null,
            "_view_module": "@jupyter-widgets/base",
            "_view_module_version": "1.2.0",
            "_view_name": "StyleView",
            "description_width": ""
          }
        },
        "57b2d33176ff472a82eef2ef7db573ff": {
          "model_module": "@jupyter-widgets/controls",
          "model_name": "HBoxModel",
          "model_module_version": "1.5.0",
          "state": {
            "_dom_classes": [],
            "_model_module": "@jupyter-widgets/controls",
            "_model_module_version": "1.5.0",
            "_model_name": "HBoxModel",
            "_view_count": null,
            "_view_module": "@jupyter-widgets/controls",
            "_view_module_version": "1.5.0",
            "_view_name": "HBoxView",
            "box_style": "",
            "children": [
              "IPY_MODEL_83631d544eb444029ea95797145aec1a",
              "IPY_MODEL_1803afb5b2094f47be72eacb11a74813",
              "IPY_MODEL_ae928b2d3e844d5c9eeedc1a3b5d5120"
            ],
            "layout": "IPY_MODEL_010f10e3dfba497388fffb51cffbf851"
          }
        },
        "83631d544eb444029ea95797145aec1a": {
          "model_module": "@jupyter-widgets/controls",
          "model_name": "HTMLModel",
          "model_module_version": "1.5.0",
          "state": {
            "_dom_classes": [],
            "_model_module": "@jupyter-widgets/controls",
            "_model_module_version": "1.5.0",
            "_model_name": "HTMLModel",
            "_view_count": null,
            "_view_module": "@jupyter-widgets/controls",
            "_view_module_version": "1.5.0",
            "_view_name": "HTMLView",
            "description": "",
            "description_tooltip": null,
            "layout": "IPY_MODEL_bdd0b741371a4d1ab781320217b30b3f",
            "placeholder": "​",
            "style": "IPY_MODEL_0cbcc08aed294c3b8681040d73e397a9",
            "value": "100%"
          }
        },
        "1803afb5b2094f47be72eacb11a74813": {
          "model_module": "@jupyter-widgets/controls",
          "model_name": "FloatProgressModel",
          "model_module_version": "1.5.0",
          "state": {
            "_dom_classes": [],
            "_model_module": "@jupyter-widgets/controls",
            "_model_module_version": "1.5.0",
            "_model_name": "FloatProgressModel",
            "_view_count": null,
            "_view_module": "@jupyter-widgets/controls",
            "_view_module_version": "1.5.0",
            "_view_name": "ProgressView",
            "bar_style": "success",
            "description": "",
            "description_tooltip": null,
            "layout": "IPY_MODEL_464895508eb446dc8fa78a92d85c052d",
            "max": 9484,
            "min": 0,
            "orientation": "horizontal",
            "style": "IPY_MODEL_5bbc4642b6f546e78c3f092d88e55730",
            "value": 9484
          }
        },
        "ae928b2d3e844d5c9eeedc1a3b5d5120": {
          "model_module": "@jupyter-widgets/controls",
          "model_name": "HTMLModel",
          "model_module_version": "1.5.0",
          "state": {
            "_dom_classes": [],
            "_model_module": "@jupyter-widgets/controls",
            "_model_module_version": "1.5.0",
            "_model_name": "HTMLModel",
            "_view_count": null,
            "_view_module": "@jupyter-widgets/controls",
            "_view_module_version": "1.5.0",
            "_view_name": "HTMLView",
            "description": "",
            "description_tooltip": null,
            "layout": "IPY_MODEL_37cf2fb4deb742ab93dd2c2a599ef96e",
            "placeholder": "​",
            "style": "IPY_MODEL_10d543aa62434c43818f93d38fe37b60",
            "value": " 9484/9484 [00:06&lt;00:00, 2072.50it/s]"
          }
        },
        "010f10e3dfba497388fffb51cffbf851": {
          "model_module": "@jupyter-widgets/base",
          "model_name": "LayoutModel",
          "model_module_version": "1.2.0",
          "state": {
            "_model_module": "@jupyter-widgets/base",
            "_model_module_version": "1.2.0",
            "_model_name": "LayoutModel",
            "_view_count": null,
            "_view_module": "@jupyter-widgets/base",
            "_view_module_version": "1.2.0",
            "_view_name": "LayoutView",
            "align_content": null,
            "align_items": null,
            "align_self": null,
            "border": null,
            "bottom": null,
            "display": null,
            "flex": null,
            "flex_flow": null,
            "grid_area": null,
            "grid_auto_columns": null,
            "grid_auto_flow": null,
            "grid_auto_rows": null,
            "grid_column": null,
            "grid_gap": null,
            "grid_row": null,
            "grid_template_areas": null,
            "grid_template_columns": null,
            "grid_template_rows": null,
            "height": null,
            "justify_content": null,
            "justify_items": null,
            "left": null,
            "margin": null,
            "max_height": null,
            "max_width": null,
            "min_height": null,
            "min_width": null,
            "object_fit": null,
            "object_position": null,
            "order": null,
            "overflow": null,
            "overflow_x": null,
            "overflow_y": null,
            "padding": null,
            "right": null,
            "top": null,
            "visibility": null,
            "width": null
          }
        },
        "bdd0b741371a4d1ab781320217b30b3f": {
          "model_module": "@jupyter-widgets/base",
          "model_name": "LayoutModel",
          "model_module_version": "1.2.0",
          "state": {
            "_model_module": "@jupyter-widgets/base",
            "_model_module_version": "1.2.0",
            "_model_name": "LayoutModel",
            "_view_count": null,
            "_view_module": "@jupyter-widgets/base",
            "_view_module_version": "1.2.0",
            "_view_name": "LayoutView",
            "align_content": null,
            "align_items": null,
            "align_self": null,
            "border": null,
            "bottom": null,
            "display": null,
            "flex": null,
            "flex_flow": null,
            "grid_area": null,
            "grid_auto_columns": null,
            "grid_auto_flow": null,
            "grid_auto_rows": null,
            "grid_column": null,
            "grid_gap": null,
            "grid_row": null,
            "grid_template_areas": null,
            "grid_template_columns": null,
            "grid_template_rows": null,
            "height": null,
            "justify_content": null,
            "justify_items": null,
            "left": null,
            "margin": null,
            "max_height": null,
            "max_width": null,
            "min_height": null,
            "min_width": null,
            "object_fit": null,
            "object_position": null,
            "order": null,
            "overflow": null,
            "overflow_x": null,
            "overflow_y": null,
            "padding": null,
            "right": null,
            "top": null,
            "visibility": null,
            "width": null
          }
        },
        "0cbcc08aed294c3b8681040d73e397a9": {
          "model_module": "@jupyter-widgets/controls",
          "model_name": "DescriptionStyleModel",
          "model_module_version": "1.5.0",
          "state": {
            "_model_module": "@jupyter-widgets/controls",
            "_model_module_version": "1.5.0",
            "_model_name": "DescriptionStyleModel",
            "_view_count": null,
            "_view_module": "@jupyter-widgets/base",
            "_view_module_version": "1.2.0",
            "_view_name": "StyleView",
            "description_width": ""
          }
        },
        "464895508eb446dc8fa78a92d85c052d": {
          "model_module": "@jupyter-widgets/base",
          "model_name": "LayoutModel",
          "model_module_version": "1.2.0",
          "state": {
            "_model_module": "@jupyter-widgets/base",
            "_model_module_version": "1.2.0",
            "_model_name": "LayoutModel",
            "_view_count": null,
            "_view_module": "@jupyter-widgets/base",
            "_view_module_version": "1.2.0",
            "_view_name": "LayoutView",
            "align_content": null,
            "align_items": null,
            "align_self": null,
            "border": null,
            "bottom": null,
            "display": null,
            "flex": null,
            "flex_flow": null,
            "grid_area": null,
            "grid_auto_columns": null,
            "grid_auto_flow": null,
            "grid_auto_rows": null,
            "grid_column": null,
            "grid_gap": null,
            "grid_row": null,
            "grid_template_areas": null,
            "grid_template_columns": null,
            "grid_template_rows": null,
            "height": null,
            "justify_content": null,
            "justify_items": null,
            "left": null,
            "margin": null,
            "max_height": null,
            "max_width": null,
            "min_height": null,
            "min_width": null,
            "object_fit": null,
            "object_position": null,
            "order": null,
            "overflow": null,
            "overflow_x": null,
            "overflow_y": null,
            "padding": null,
            "right": null,
            "top": null,
            "visibility": null,
            "width": null
          }
        },
        "5bbc4642b6f546e78c3f092d88e55730": {
          "model_module": "@jupyter-widgets/controls",
          "model_name": "ProgressStyleModel",
          "model_module_version": "1.5.0",
          "state": {
            "_model_module": "@jupyter-widgets/controls",
            "_model_module_version": "1.5.0",
            "_model_name": "ProgressStyleModel",
            "_view_count": null,
            "_view_module": "@jupyter-widgets/base",
            "_view_module_version": "1.2.0",
            "_view_name": "StyleView",
            "bar_color": null,
            "description_width": ""
          }
        },
        "37cf2fb4deb742ab93dd2c2a599ef96e": {
          "model_module": "@jupyter-widgets/base",
          "model_name": "LayoutModel",
          "model_module_version": "1.2.0",
          "state": {
            "_model_module": "@jupyter-widgets/base",
            "_model_module_version": "1.2.0",
            "_model_name": "LayoutModel",
            "_view_count": null,
            "_view_module": "@jupyter-widgets/base",
            "_view_module_version": "1.2.0",
            "_view_name": "LayoutView",
            "align_content": null,
            "align_items": null,
            "align_self": null,
            "border": null,
            "bottom": null,
            "display": null,
            "flex": null,
            "flex_flow": null,
            "grid_area": null,
            "grid_auto_columns": null,
            "grid_auto_flow": null,
            "grid_auto_rows": null,
            "grid_column": null,
            "grid_gap": null,
            "grid_row": null,
            "grid_template_areas": null,
            "grid_template_columns": null,
            "grid_template_rows": null,
            "height": null,
            "justify_content": null,
            "justify_items": null,
            "left": null,
            "margin": null,
            "max_height": null,
            "max_width": null,
            "min_height": null,
            "min_width": null,
            "object_fit": null,
            "object_position": null,
            "order": null,
            "overflow": null,
            "overflow_x": null,
            "overflow_y": null,
            "padding": null,
            "right": null,
            "top": null,
            "visibility": null,
            "width": null
          }
        },
        "10d543aa62434c43818f93d38fe37b60": {
          "model_module": "@jupyter-widgets/controls",
          "model_name": "DescriptionStyleModel",
          "model_module_version": "1.5.0",
          "state": {
            "_model_module": "@jupyter-widgets/controls",
            "_model_module_version": "1.5.0",
            "_model_name": "DescriptionStyleModel",
            "_view_count": null,
            "_view_module": "@jupyter-widgets/base",
            "_view_module_version": "1.2.0",
            "_view_name": "StyleView",
            "description_width": ""
          }
        }
      }
    }
  },
  "nbformat": 4,
  "nbformat_minor": 0
}